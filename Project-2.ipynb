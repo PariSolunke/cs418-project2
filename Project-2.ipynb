{
 "cells": [
  {
   "cell_type": "code",
   "execution_count": 1,
   "metadata": {},
   "outputs": [],
   "source": [
    "from sklearn.model_selection import train_test_split\n",
    "from sklearn.preprocessing import StandardScaler\n",
    "import pandas as pd\n",
    "import matplotlib.pyplot as plt\n",
    "import seaborn as sns\n",
    "from sklearn.compose import ColumnTransformer\n",
    "from sklearn import linear_model\n",
    "from sklearn.neighbors import KNeighborsClassifier \n",
    "from sklearn.naive_bayes import GaussianNB\n",
    "from sklearn.svm import SVC\n",
    "from sklearn import metrics\n",
    "from sklearn.cluster import DBSCAN, KMeans\n",
    "from scipy.cluster.hierarchy import linkage, dendrogram, fcluster\n",
    "from sklearn.neighbors import NearestNeighbors\n",
    "import numpy as np\n",
    "from matplotlib import pyplot as plt\n",
    "\n"
   ]
  },
  {
   "cell_type": "code",
   "execution_count": 2,
   "metadata": {},
   "outputs": [
    {
     "output_type": "execute_result",
     "data": {
      "text/plain": [
       "  State    County  FIPS  Total Population  \\\n",
       "0    AZ    apache  4001             72346   \n",
       "1    AZ   cochise  4003            128177   \n",
       "2    AZ  coconino  4005            138064   \n",
       "3    AZ      gila  4007             53179   \n",
       "4    AZ    graham  4009             37529   \n",
       "\n",
       "   Percent White, not Hispanic or Latino  \\\n",
       "0                              18.571863   \n",
       "1                              56.299492   \n",
       "2                              54.619597   \n",
       "3                              63.222325   \n",
       "4                              51.461536   \n",
       "\n",
       "   Percent Black, not Hispanic or Latino  Percent Hispanic or Latino  \\\n",
       "0                               0.486551                    5.947806   \n",
       "1                               3.714395                   34.403208   \n",
       "2                               1.342855                   13.711033   \n",
       "3                               0.552850                   18.548675   \n",
       "4                               1.811932                   32.097844   \n",
       "\n",
       "   Percent Foreign Born  Percent Female  Percent Age 29 and Under  \\\n",
       "0              1.719515       50.598513                 45.854643   \n",
       "1             11.458374       49.069646                 37.902276   \n",
       "2              4.825298       50.581614                 48.946141   \n",
       "3              4.249798       50.296170                 32.238290   \n",
       "4              4.385942       46.313518                 46.393456   \n",
       "\n",
       "   Percent Age 65 and Older  Median Household Income  Percent Unemployed  \\\n",
       "0                 13.322091                    32460           15.807433   \n",
       "1                 19.756275                    45383            8.567108   \n",
       "2                 10.873943                    51106            8.238305   \n",
       "3                 26.397638                    40593           12.129932   \n",
       "4                 12.315809                    47422           14.424104   \n",
       "\n",
       "   Percent Less than High School Degree  Percent Less than Bachelor's Degree  \\\n",
       "0                             21.758252                            88.941063   \n",
       "1                             13.409171                            76.837055   \n",
       "2                             11.085381                            65.791439   \n",
       "3                             15.729958                            82.262624   \n",
       "4                             14.580797                            86.675944   \n",
       "\n",
       "   Percent Rural  Democratic  Republican  Party  \n",
       "0      74.061076       16298        7810      1  \n",
       "1      36.301067       17383       26929      0  \n",
       "2      31.466066       34240       19249      1  \n",
       "3      41.062000        7643       12180      0  \n",
       "4      46.437399        3368        6870      0  "
      ],
      "text/html": "<div>\n<style scoped>\n    .dataframe tbody tr th:only-of-type {\n        vertical-align: middle;\n    }\n\n    .dataframe tbody tr th {\n        vertical-align: top;\n    }\n\n    .dataframe thead th {\n        text-align: right;\n    }\n</style>\n<table border=\"1\" class=\"dataframe\">\n  <thead>\n    <tr style=\"text-align: right;\">\n      <th></th>\n      <th>State</th>\n      <th>County</th>\n      <th>FIPS</th>\n      <th>Total Population</th>\n      <th>Percent White, not Hispanic or Latino</th>\n      <th>Percent Black, not Hispanic or Latino</th>\n      <th>Percent Hispanic or Latino</th>\n      <th>Percent Foreign Born</th>\n      <th>Percent Female</th>\n      <th>Percent Age 29 and Under</th>\n      <th>Percent Age 65 and Older</th>\n      <th>Median Household Income</th>\n      <th>Percent Unemployed</th>\n      <th>Percent Less than High School Degree</th>\n      <th>Percent Less than Bachelor's Degree</th>\n      <th>Percent Rural</th>\n      <th>Democratic</th>\n      <th>Republican</th>\n      <th>Party</th>\n    </tr>\n  </thead>\n  <tbody>\n    <tr>\n      <th>0</th>\n      <td>AZ</td>\n      <td>apache</td>\n      <td>4001</td>\n      <td>72346</td>\n      <td>18.571863</td>\n      <td>0.486551</td>\n      <td>5.947806</td>\n      <td>1.719515</td>\n      <td>50.598513</td>\n      <td>45.854643</td>\n      <td>13.322091</td>\n      <td>32460</td>\n      <td>15.807433</td>\n      <td>21.758252</td>\n      <td>88.941063</td>\n      <td>74.061076</td>\n      <td>16298</td>\n      <td>7810</td>\n      <td>1</td>\n    </tr>\n    <tr>\n      <th>1</th>\n      <td>AZ</td>\n      <td>cochise</td>\n      <td>4003</td>\n      <td>128177</td>\n      <td>56.299492</td>\n      <td>3.714395</td>\n      <td>34.403208</td>\n      <td>11.458374</td>\n      <td>49.069646</td>\n      <td>37.902276</td>\n      <td>19.756275</td>\n      <td>45383</td>\n      <td>8.567108</td>\n      <td>13.409171</td>\n      <td>76.837055</td>\n      <td>36.301067</td>\n      <td>17383</td>\n      <td>26929</td>\n      <td>0</td>\n    </tr>\n    <tr>\n      <th>2</th>\n      <td>AZ</td>\n      <td>coconino</td>\n      <td>4005</td>\n      <td>138064</td>\n      <td>54.619597</td>\n      <td>1.342855</td>\n      <td>13.711033</td>\n      <td>4.825298</td>\n      <td>50.581614</td>\n      <td>48.946141</td>\n      <td>10.873943</td>\n      <td>51106</td>\n      <td>8.238305</td>\n      <td>11.085381</td>\n      <td>65.791439</td>\n      <td>31.466066</td>\n      <td>34240</td>\n      <td>19249</td>\n      <td>1</td>\n    </tr>\n    <tr>\n      <th>3</th>\n      <td>AZ</td>\n      <td>gila</td>\n      <td>4007</td>\n      <td>53179</td>\n      <td>63.222325</td>\n      <td>0.552850</td>\n      <td>18.548675</td>\n      <td>4.249798</td>\n      <td>50.296170</td>\n      <td>32.238290</td>\n      <td>26.397638</td>\n      <td>40593</td>\n      <td>12.129932</td>\n      <td>15.729958</td>\n      <td>82.262624</td>\n      <td>41.062000</td>\n      <td>7643</td>\n      <td>12180</td>\n      <td>0</td>\n    </tr>\n    <tr>\n      <th>4</th>\n      <td>AZ</td>\n      <td>graham</td>\n      <td>4009</td>\n      <td>37529</td>\n      <td>51.461536</td>\n      <td>1.811932</td>\n      <td>32.097844</td>\n      <td>4.385942</td>\n      <td>46.313518</td>\n      <td>46.393456</td>\n      <td>12.315809</td>\n      <td>47422</td>\n      <td>14.424104</td>\n      <td>14.580797</td>\n      <td>86.675944</td>\n      <td>46.437399</td>\n      <td>3368</td>\n      <td>6870</td>\n      <td>0</td>\n    </tr>\n  </tbody>\n</table>\n</div>"
     },
     "metadata": {},
     "execution_count": 2
    }
   ],
   "source": [
    "#Read Data in\n",
    "df=pd.read_csv(\"merged_train.csv\")\n",
    "df.head(5)"
   ]
  },
  {
   "cell_type": "markdown",
   "metadata": {},
   "source": [
    "***Task 1***"
   ]
  },
  {
   "cell_type": "code",
   "execution_count": 4,
   "metadata": {},
   "outputs": [],
   "source": [
    "#Task 1: split the dataset into training and test set using the holdout method\n",
    "\n",
    "x_train,x_test,y_train,y_test=train_test_split(df.iloc[:,:-3], df.iloc[:,-3:], random_state=1, test_size=0.23)\n"
   ]
  },
  {
   "cell_type": "code",
   "execution_count": 5,
   "metadata": {},
   "outputs": [
    {
     "output_type": "stream",
     "name": "stdout",
     "text": [
      "<class 'pandas.core.frame.DataFrame'>\nInt64Index: 920 entries, 191 to 1061\nData columns (total 16 columns):\n #   Column                                 Non-Null Count  Dtype  \n---  ------                                 --------------  -----  \n 0   State                                  920 non-null    object \n 1   County                                 920 non-null    object \n 2   FIPS                                   920 non-null    int64  \n 3   Total Population                       920 non-null    int64  \n 4   Percent White, not Hispanic or Latino  920 non-null    float64\n 5   Percent Black, not Hispanic or Latino  920 non-null    float64\n 6   Percent Hispanic or Latino             920 non-null    float64\n 7   Percent Foreign Born                   920 non-null    float64\n 8   Percent Female                         920 non-null    float64\n 9   Percent Age 29 and Under               920 non-null    float64\n 10  Percent Age 65 and Older               920 non-null    float64\n 11  Median Household Income                920 non-null    int64  \n 12  Percent Unemployed                     920 non-null    float64\n 13  Percent Less than High School Degree   920 non-null    float64\n 14  Percent Less than Bachelor's Degree    920 non-null    float64\n 15  Percent Rural                          920 non-null    float64\ndtypes: float64(11), int64(3), object(2)\nmemory usage: 122.2+ KB\n"
     ]
    }
   ],
   "source": [
    "x_train.info()"
   ]
  },
  {
   "cell_type": "code",
   "execution_count": 6,
   "metadata": {},
   "outputs": [
    {
     "output_type": "stream",
     "name": "stdout",
     "text": [
      "<class 'pandas.core.frame.DataFrame'>\nInt64Index: 275 entries, 49 to 180\nData columns (total 16 columns):\n #   Column                                 Non-Null Count  Dtype  \n---  ------                                 --------------  -----  \n 0   State                                  275 non-null    object \n 1   County                                 275 non-null    object \n 2   FIPS                                   275 non-null    int64  \n 3   Total Population                       275 non-null    int64  \n 4   Percent White, not Hispanic or Latino  275 non-null    float64\n 5   Percent Black, not Hispanic or Latino  275 non-null    float64\n 6   Percent Hispanic or Latino             275 non-null    float64\n 7   Percent Foreign Born                   275 non-null    float64\n 8   Percent Female                         275 non-null    float64\n 9   Percent Age 29 and Under               275 non-null    float64\n 10  Percent Age 65 and Older               275 non-null    float64\n 11  Median Household Income                275 non-null    int64  \n 12  Percent Unemployed                     275 non-null    float64\n 13  Percent Less than High School Degree   275 non-null    float64\n 14  Percent Less than Bachelor's Degree    275 non-null    float64\n 15  Percent Rural                          275 non-null    float64\ndtypes: float64(11), int64(3), object(2)\nmemory usage: 36.5+ KB\n"
     ]
    }
   ],
   "source": [
    "x_test.info()"
   ]
  },
  {
   "cell_type": "markdown",
   "metadata": {},
   "source": [
    "***Task 2***"
   ]
  },
  {
   "cell_type": "code",
   "execution_count": 7,
   "metadata": {},
   "outputs": [],
   "source": [
    "#Task 2: Scaling the x_train and x_test sets\n",
    "scaler=StandardScaler().fit(x_train.iloc[:,3:])\n",
    "x_train_scaled=scaler.transform(x_train.iloc[:,3:])\n",
    "x_test_scaled=scaler.transform(x_test.iloc[:,3:])\n"
   ]
  },
  {
   "cell_type": "markdown",
   "metadata": {},
   "source": [
    "***Task 3: Regression models***"
   ]
  },
  {
   "cell_type": "code",
   "execution_count": 7,
   "metadata": {},
   "outputs": [
    {
     "output_type": "stream",
     "name": "stdout",
     "text": [
      "Coefficients: \t [65180.35305484 -3445.88365077  -829.88729492 -7093.73389513\n  3103.84879685  -226.64749932 -3658.42000593  -856.54320693\n   428.57929225   685.6592625   3574.19800722 -9492.84900608\n   568.81147654]\nIntercept: \t 26459.871739130427\nR-squared: \t 0.9066241634739941\nAdjusted R-squared: \t 0.9019732597389823\n"
     ]
    }
   ],
   "source": [
    "#using linear regression with all variables for democratic votes\n",
    "\n",
    "model=linear_model.LinearRegression().fit(x_train_scaled,y_train['Democratic'])\n",
    "y_pred=model.predict(x_test_scaled)\n",
    "r2=metrics.r2_score(y_test['Democratic'],y_pred)\n",
    "radj=1-(1-r2)*(275-1)/(275-13-1)\n",
    "\n",
    "print (\"Coefficients: \\t\",model.coef_)\n",
    "print (\"Intercept: \\t\",model.intercept_)\n",
    "print (\"R-squared: \\t\",r2)\n",
    "print(\"Adjusted R-squared: \\t\", radj)\n",
    "\n",
    "\n"
   ]
  },
  {
   "cell_type": "code",
   "execution_count": 8,
   "metadata": {},
   "outputs": [
    {
     "output_type": "stream",
     "name": "stdout",
     "text": [
      "Coefficients: \t [39554.93330223  1936.35120859 -2549.42696013   983.35778642\n -4728.0802429   -628.76439648  -807.93106198  2393.54933962\n  5332.70154246  2022.6990234   2935.10256247 -2703.77747028\n -5904.11707453]\nIntercept: \t 21058.953260869566\nR-squared: \t 0.8204008463950343\nAdjusted R-squared: \t 0.8114552946829096\n"
     ]
    }
   ],
   "source": [
    "#using linear regression with all variables for Republican votes\n",
    "\n",
    "model=linear_model.LinearRegression().fit(x_train_scaled,y_train['Republican'])\n",
    "y_pred=model.predict(x_test_scaled)\n",
    "r2=metrics.r2_score(y_test['Republican'],y_pred)\n",
    "radj=1-(1-r2)*(275-1)/(275-13-1)\n",
    "\n",
    "print (\"Coefficients: \\t\", model.coef_)\n",
    "print (\"Intercept: \\t\",model.intercept_)\n",
    "print (\"R-squared: \\t\",r2)\n",
    "print(\"Adjusted R-squared: \\t\", radj)\n"
   ]
  },
  {
   "cell_type": "code",
   "execution_count": 9,
   "metadata": {},
   "outputs": [
    {
     "output_type": "stream",
     "name": "stdout",
     "text": [
      "Coefficients: \t [65179.58429607 -3432.21060658  -820.69664388 -7080.49766461\n  3104.35235033  -226.200928   -3650.7653268   -850.38104973\n   428.74654506   685.67904905  3567.34876125 -9487.66345589\n   567.2483701 ]\nIntercept: \t 26459.871739130427\nR-squared: \t 0.9066358324394638\nAdjusted R-squared: \t 0.9019855099172914\n"
     ]
    }
   ],
   "source": [
    "#using lasso Regression with all variables for Democratic votes\n",
    "\n",
    "model=linear_model.Lasso(alpha=1).fit(x_train_scaled,y_train['Democratic'])\n",
    "y_pred=model.predict(x_test_scaled)\n",
    "r2=metrics.r2_score(y_test['Democratic'],y_pred)\n",
    "radj=1-(1-r2)*(275-1)/(275-13-1)\n",
    "\n",
    "print (\"Coefficients: \\t\", model.coef_)\n",
    "print (\"Intercept: \\t\",model.intercept_)\n",
    "print (\"R-squared: \\t\",r2)\n",
    "print(\"Adjusted R-squared: \\t\", radj)\n",
    "\n",
    "\n"
   ]
  },
  {
   "cell_type": "code",
   "execution_count": 10,
   "metadata": {},
   "outputs": [
    {
     "output_type": "stream",
     "name": "stdout",
     "text": [
      "Coefficients: \t [39551.13609361  1930.04425597 -2549.39478081   976.47849193\n -4719.38496994  -626.34790664  -808.32303017  2389.73750211\n  5328.74147455  2020.21972591  2927.89556845 -2698.59094515\n -5901.28777988]\nIntercept: \t 21058.953260869566\nR-squared: \t 0.82037207773618\nAdjusted R-squared: \t 0.8114250931023499\n"
     ]
    }
   ],
   "source": [
    "#using Lasso Regression with all variables for Republican votes\n",
    "\n",
    "model=linear_model.Lasso(alpha=1).fit(x_train_scaled,y_train['Republican'])\n",
    "y_pred=model.predict(x_test_scaled)\n",
    "r2=metrics.r2_score(y_test['Republican'],y_pred)\n",
    "radj=1-(1-r2)*(275-1)/(275-13-1)\n",
    "\n",
    "print (\"Coefficients: \\t\", model.coef_)\n",
    "print (\"Intercept: \\t\",model.intercept_)\n",
    "print (\"R-squared: \\t\",r2)\n",
    "print(\"Adjusted R-squared: \\t\", radj)\n"
   ]
  },
  {
   "cell_type": "markdown",
   "metadata": {},
   "source": [
    "From above, Lasso regression does not seem to be setting any coefficients to 0 which might indicate that all variables are useful in predicting the result. Both linear regression and lasso regression have similar R-squared and adjusted R-squared values. However, We can still experiment with different combinations of variables to see if any is similar or better than using all variables."
   ]
  },
  {
   "cell_type": "code",
   "execution_count": 11,
   "metadata": {},
   "outputs": [
    {
     "output_type": "stream",
     "name": "stdout",
     "text": [
      "Coefficients: \t [ 66468.36469058  -2835.10254871   -340.50358531  -5893.09326654\n   3962.74735093 -10090.03936004   1280.20928827]\nIntercept: \t 26459.871739130427\nR-squared: \t 0.9077410782516582\nAdjusted R-squared: \t 0.9053223050223009\n"
     ]
    }
   ],
   "source": [
    "#using Lasso regression with Total population,ethnic,education and %rural/urban features for democratic votes\n",
    "\n",
    "model=linear_model.Lasso(alpha=1).fit(x_train_scaled[:,[0,1,2,3,10,11,12]],y_train['Democratic'])\n",
    "y_pred=model.predict(x_test_scaled[:,[0,1,2,3,10,11,12]])\n",
    "r2=metrics.r2_score(y_test['Democratic'],y_pred)\n",
    "radj=1-(1-r2)*(275-1)/(275-7-1)\n",
    "\n",
    "print (\"Coefficients: \\t\", model.coef_)\n",
    "print (\"Intercept: \\t\",model.intercept_)\n",
    "print (\"R-squared: \\t\",r2)\n",
    "print(\"Adjusted R-squared: \\t\", radj)"
   ]
  },
  {
   "cell_type": "code",
   "execution_count": 13,
   "metadata": {},
   "outputs": [
    {
     "output_type": "stream",
     "name": "stdout",
     "text": [
      "Coefficients: \t [38416.73437929  3367.89386346 -1646.38789433   268.19841996\n   180.58887006 -2912.17794442 -4488.39026087]\nIntercept: \t 21058.953260869566\nR-squared: \t 0.8040982146474943\nAdjusted R-squared: \t 0.79896221278432\n"
     ]
    }
   ],
   "source": [
    "#using Lasso regression with Total population,ethnic,education and %rural/urban fatures for Republican votes\n",
    "\n",
    "model=linear_model.Lasso(alpha=1).fit(x_train_scaled[:,[0,1,2,3,10,11,12]],y_train['Republican'])\n",
    "y_pred=model.predict(x_test_scaled[:,[0,1,2,3,10,11,12]])\n",
    "r2=metrics.r2_score(y_test['Republican'],y_pred)\n",
    "radj=1-(1-r2)*(275-1)/(275-7-1)\n",
    "\n",
    "print (\"Coefficients: \\t\", model.coef_)\n",
    "print (\"Intercept: \\t\",model.intercept_)\n",
    "print (\"R-squared: \\t\",r2)\n",
    "print(\"Adjusted R-squared: \\t\", radj)"
   ]
  },
  {
   "cell_type": "code",
   "execution_count": 14,
   "metadata": {},
   "outputs": [
    {
     "output_type": "stream",
     "name": "stdout",
     "text": [
      "Coefficients: \t [ 6.78800747e+04 -5.39046680e+03 -7.68959219e+00 -6.14312062e+03\n -3.92120632e+02  1.94163995e+03  5.19953941e+03]\nIntercept: \t 26459.871739130434\nR-squared: \t 0.9022677349940688\nAdjusted R-squared: \t 0.8997054658740631\n"
     ]
    }
   ],
   "source": [
    "#using Lasso regression with Total population,ethnic and age data for democratic votes\n",
    "\n",
    "model=linear_model.Lasso(alpha=1).fit(x_train_scaled[:,[0,1,2,3,6,7,8]],y_train['Democratic'])\n",
    "y_pred=model.predict(x_test_scaled[:,[0,1,2,3,6,7,8]])\n",
    "r2=metrics.r2_score(y_test['Democratic'],y_pred)\n",
    "radj=1-(1-r2)*(275-1)/(275-7-1)\n",
    "\n",
    "print (\"Coefficients: \\t\", model.coef_)\n",
    "print (\"Intercept: \\t\",model.intercept_)\n",
    "print (\"R-squared: \\t\",r2)\n",
    "print(\"Adjusted R-squared: \\t\", radj)"
   ]
  },
  {
   "cell_type": "code",
   "execution_count": 15,
   "metadata": {},
   "outputs": [
    {
     "output_type": "stream",
     "name": "stdout",
     "text": [
      "Coefficients: \t [39992.45174544  2189.17010832  -938.00766816   337.82540405\n   995.03343305  1506.47451008  5006.53370505]\nIntercept: \t 21058.953260869566\nR-squared: \t 0.8027955282636687\nAdjusted R-squared: \t 0.7976253735739521\n"
     ]
    }
   ],
   "source": [
    "#using Lasso regression with Total population,ethnic and age data for Republican votes\n",
    "\n",
    "model=linear_model.Lasso(alpha=1).fit(x_train_scaled[:,[0,1,2,3,6,7,8]],y_train['Republican'])\n",
    "y_pred=model.predict(x_test_scaled[:,[0,1,2,3,6,7,8]])\n",
    "r2=metrics.r2_score(y_test['Republican'],y_pred)\n",
    "radj=1-(1-r2)*(275-1)/(275-7-1)\n",
    "\n",
    "print (\"Coefficients: \\t\", model.coef_)\n",
    "print (\"Intercept: \\t\",model.intercept_)\n",
    "print (\"R-squared: \\t\",r2)\n",
    "print(\"Adjusted R-squared: \\t\", radj)"
   ]
  },
  {
   "cell_type": "code",
   "execution_count": 16,
   "metadata": {},
   "outputs": [
    {
     "output_type": "stream",
     "name": "stdout",
     "text": [
      "Coefficients: \t [ 6.60304196e+04 -4.49357971e+03 -1.20217111e+03 -6.56464100e+03\n -4.24321391e+03 -1.11765974e+03  6.21279244e+02  4.79205671e+03\n -1.02998143e+04  1.93350324e+01]\nIntercept: \t 26459.871739130427\nR-squared: \t 0.9088724499515641\nAdjusted R-squared: \t 0.9054206488133658\n"
     ]
    }
   ],
   "source": [
    "#All features except %female, %foreign born and %unemployed\n",
    "#using Lasso for democratic votes\n",
    "\n",
    "model=linear_model.Lasso(alpha=1).fit(x_train_scaled[:,[0,1,2,3,6,7,8,10,11,12]],y_train['Democratic'])\n",
    "y_pred=model.predict(x_test_scaled[:,[0,1,2,3,6,7,8,10,11,12]])\n",
    "r2=metrics.r2_score(y_test['Democratic'],y_pred)\n",
    "radj=1-(1-r2)*(275-1)/(275-10-1)\n",
    "\n",
    "print (\"Coefficients: \\t\", model.coef_)\n",
    "print (\"Intercept: \\t\",model.intercept_)\n",
    "print (\"R-squared: \\t\",r2)\n",
    "print(\"Adjusted R-squared: \\t\", radj)"
   ]
  },
  {
   "cell_type": "code",
   "execution_count": 17,
   "metadata": {},
   "outputs": [
    {
     "output_type": "stream",
     "name": "stdout",
     "text": [
      "Coefficients: \t [38289.87057722  1918.94147029 -2170.81703375 -1241.08657453\n  -851.65073067  2001.10788055  3943.25424507  1761.99202865\n -1144.30127907 -5694.18878151]\nIntercept: \t 21058.953260869566\nR-squared: \t 0.8025381328054344\nAdjusted R-squared: \t 0.7950585166238221\n"
     ]
    }
   ],
   "source": [
    "#All features except %female, %foreign born and %unemployed\n",
    "#using Lasso for republican votes\n",
    "\n",
    "model=linear_model.Lasso(alpha=1).fit(x_train_scaled[:,[0,1,2,3,6,7,8,10,11,12]],y_train['Republican'])\n",
    "y_pred=model.predict(x_test_scaled[:,[0,1,2,3,6,7,8,10,11,12]])\n",
    "r2=metrics.r2_score(y_test['Republican'],y_pred)\n",
    "radj=1-(1-r2)*(275-1)/(275-10-1)\n",
    "\n",
    "print (\"Coefficients: \\t\", model.coef_)\n",
    "print (\"Intercept: \\t\",model.intercept_)\n",
    "print (\"R-squared: \\t\",r2)\n",
    "print(\"Adjusted R-squared: \\t\", radj)"
   ]
  },
  {
   "cell_type": "markdown",
   "metadata": {},
   "source": [
    "From our results, we can see that using all variables is consistently better than using various subsets, especially for predicting republican votes. i.e all variables are playing an important role in the final vote tally. When using all variables, Lasso and Linear Regression have similar scores, however, it would still be advisable to go with Lasso Regression to lower the coefficients and ensure it generalizes better."
   ]
  },
  {
   "cell_type": "markdown",
   "metadata": {},
   "source": [
    "***Task 4: Classification models***"
   ]
  },
  {
   "cell_type": "code",
   "execution_count": 18,
   "metadata": {},
   "outputs": [
    {
     "output_type": "stream",
     "name": "stdout",
     "text": [
      "Model: K-Nearest Neighbors\nNumber of neighbors:  3  ------------\nAccuracy: \t 0.782\nPrecision: \t [0.81278539 0.66071429]\nRecall: \t [0.9035533  0.47435897]\nF1 Score: \t [0.85576923 0.55223881]\nNumber of neighbors:  4  ------------\nAccuracy: \t 0.796\nPrecision: \t [0.80257511 0.76190476]\nRecall: \t [0.94923858 0.41025641]\nF1 Score: \t [0.86976744 0.53333333]\nNumber of neighbors:  5  ------------\nAccuracy: \t 0.785\nPrecision: \t [0.81944444 0.66101695]\nRecall: \t [0.89847716 0.5       ]\nF1 Score: \t [0.85714286 0.56934307]\n\nBest K-NN model: nn = 4\n"
     ]
    }
   ],
   "source": [
    "# Classification model #1: K-NN\n",
    "print(\"Model: K-Nearest Neighbors\")\n",
    "num_neighbors = [3,4,5]\n",
    "\n",
    "# create models for each number of nearest neighbors\n",
    "for n in num_neighbors:\n",
    "    classifier = KNeighborsClassifier(n_neighbors=n)  \n",
    "    classifier.fit(x_train_scaled, y_train['Party'])\n",
    "\n",
    "    y_pred = classifier.predict(x_test_scaled)\n",
    "\n",
    "    accuracy = metrics.accuracy_score(y_test['Party'], y_pred)\n",
    "    error = 1 - accuracy\n",
    "    precision = metrics.precision_score(y_test['Party'], y_pred, average = None)\n",
    "    recall = metrics.recall_score(y_test['Party'], y_pred, average = None)\n",
    "    F1_score = (2 * recall * precision) / (recall + precision)\n",
    "    print(\"Number of neighbors: \", n, \" ------------\")\n",
    "    print('Accuracy: \\t', round(accuracy,3))\n",
    "    print('Precision: \\t', precision)\n",
    "    print('Recall: \\t', recall)\n",
    "    print('F1 Score: \\t', F1_score)\n",
    "\n",
    "print('\\nBest K-NN model: nn = 4')"
   ]
  },
  {
   "cell_type": "code",
   "execution_count": 19,
   "metadata": {},
   "outputs": [
    {
     "output_type": "stream",
     "name": "stdout",
     "text": [
      "Model: Naive Bayes\nAccuracy: \t 0.753\nPrecision: \t [0.79723502 0.5862069 ]\nRecall: \t [0.87817259 0.43589744]\nF1 Score: \t [0.83574879 0.5       ]\n"
     ]
    }
   ],
   "source": [
    "# Classification model #2: Naive Bayes\n",
    "print(\"Model: Naive Bayes\")\n",
    "\n",
    "classifier = GaussianNB()  \n",
    "classifier.fit(x_train_scaled, y_train['Party'])\n",
    "\n",
    "y_pred = classifier.predict(x_test_scaled)\n",
    "\n",
    "accuracy = metrics.accuracy_score(y_test['Party'], y_pred)\n",
    "error = 1 - accuracy\n",
    "precision = metrics.precision_score(y_test['Party'], y_pred, average = None)\n",
    "recall = metrics.recall_score(y_test['Party'], y_pred, average = None)\n",
    "F1_score = (2 * recall * precision) / (recall + precision)\n",
    "print('Accuracy: \\t', round(accuracy,3))\n",
    "print('Precision: \\t', precision)\n",
    "print('Recall: \\t', recall)\n",
    "print('F1 Score: \\t', F1_score)"
   ]
  },
  {
   "cell_type": "code",
   "execution_count": 19,
   "metadata": {},
   "outputs": [
    {
     "name": "stdout",
     "output_type": "stream",
     "text": [
      "Model: Support Vector Machines\n",
      "Kernel:  linear\n",
      "Accuracy: \t 0.789\n",
      "Precision: \t [0.79079498 0.77777778]\n",
      "Recall: \t [0.95939086 0.35897436]\n",
      "F1 Score: \t [0.86697248 0.49122807]\n",
      "Kernel:  poly\n",
      "Accuracy: \t 0.778\n",
      "Precision: \t [0.77868852 0.77419355]\n",
      "Recall: \t [0.96446701 0.30769231]\n",
      "F1 Score: \t [0.861678   0.44036697]\n",
      "Kernel:  rbf\n",
      "Accuracy: \t 0.815\n",
      "Precision: \t [0.8173913 0.8      ]\n",
      "Recall: \t [0.95431472 0.46153846]\n",
      "F1 Score: \t [0.88056206 0.58536585]\n",
      "Kernel:  sigmoid\n",
      "Accuracy: \t 0.662\n",
      "Precision: \t [0.73853211 0.36842105]\n",
      "Recall: \t [0.81725888 0.26923077]\n",
      "F1 Score: \t [0.77590361 0.31111111]\n",
      "\n",
      "Best SVM model: rbf\n"
     ]
    }
   ],
   "source": [
    "# Classification model #3: SVM\n",
    "print(\"Model: Support Vector Machines\")\n",
    "kernels = ['linear', 'poly', 'rbf', 'sigmoid']\n",
    "\n",
    "for k in kernels:\n",
    "    print(\"Kernel: \", k)\n",
    "    classifier = SVC(kernel=k)  \n",
    "    classifier.fit(x_train_scaled, y_train['Party'])\n",
    "\n",
    "    y_pred = classifier.predict(x_test_scaled)\n",
    "\n",
    "    accuracy = metrics.accuracy_score(y_test['Party'], y_pred)\n",
    "    error = 1 - accuracy\n",
    "    precision = metrics.precision_score(y_test['Party'], y_pred, average = None)\n",
    "    recall = metrics.recall_score(y_test['Party'], y_pred, average = None)\n",
    "    F1_score = (2 * recall * precision) / (recall + precision)\n",
    "    print('Accuracy: \\t', round(accuracy,3))\n",
    "    print('Precision: \\t', precision)\n",
    "    print('Recall: \\t', recall)\n",
    "    print('F1 Score: \\t', F1_score)\n",
    "    \n",
    "print('\\nBest SVM model: rbf')"
   ]
  },
  {
   "cell_type": "code",
   "execution_count": 20,
   "metadata": {},
   "outputs": [
    {
     "output_type": "error",
     "ename": "IndentationError",
     "evalue": "unexpected indent (<ipython-input-20-3a000b712c15>, line 2)",
     "traceback": [
      "\u001b[0;36m  File \u001b[0;32m\"<ipython-input-20-3a000b712c15>\"\u001b[0;36m, line \u001b[0;32m2\u001b[0m\n\u001b[0;31m    Accuracy    Precision        Recall         F1 Score\u001b[0m\n\u001b[0m    ^\u001b[0m\n\u001b[0;31mIndentationError\u001b[0m\u001b[0;31m:\u001b[0m unexpected indent\n"
     ]
    }
   ],
   "source": [
    "# Metrics without feature selection:\n",
    "                Accuracy    Precision        Recall         F1 Score\n",
    "KNN - 3         0.782       [0.813 0.661]   [0.904 0.474]   [0.856 0.552]\n",
    "KNN - 4         0.796       [0.803 0.762]   [0.949 0.410]   [0.870 0.533]\n",
    "KNN - 5         0.785       [0.797 0.586]   [0.878 0.436]   [0.836 0.5  ]\n",
    "NB              0.753       [0.797 0.586]   [0.878 0.436]   [0.836 0.5  ]\n",
    "SVM - linear    0.789       [0.791 0.778]   [0.959 0.359]   [0.867 0.491]\n",
    "SVM - poly      0.778       [0.779 0.774]   [0.964 0.308]   [0.862 0.440]\n",
    "SVM - rbf       0.815       [0.817 0.8  ]   [0.954 0.462]   [0.881 0.585]\n",
    "SVM - sigmoid   0.662       [0.739 0.368]   [0.817 0.269]   [0.776 0.311]"
   ]
  },
  {
   "cell_type": "code",
   "execution_count": 14,
   "metadata": {},
   "outputs": [
    {
     "output_type": "stream",
     "name": "stdout",
     "text": [
      "[[-0.31541432  0.66815816 -0.51942279 -0.59253906 -0.63073271]\n [-0.23232426  0.88394474 -0.51890209 -0.58220293 -0.69077485]\n [-0.38442597 -3.09710523 -0.47414247  4.48157983  5.30924274]\n ...\n [-0.30888728  0.78841907 -0.54277074 -0.49469377 -0.43103556]\n [ 0.21431212 -0.48232738  1.35263    -0.13653801 -0.4547251 ]\n [-0.3883297   0.66705871 -0.5974583  -0.45766177 -0.61876255]]\n"
     ]
    }
   ],
   "source": [
    " # K-Nearest Neighbors using feature selection\n",
    "x_train_1 = x_train.iloc[:,[3,4,5,6,7]] # Total population, all racial percentages\n",
    "x_test_1 = x_test.iloc[:,[3,4,5,6,7]]\n",
    "\n",
    "x_train_2 = x_train.iloc[:,[3,9,10]] # Total population, age\n",
    "x_test_2 = x_test.iloc[:,[3,9,10]]\n",
    "\n",
    "x_train_3 = x_train.iloc[:,[3,11,12]] # Total population, income\n",
    "x_test_3 = x_test.iloc[:,[3,11,12]]\n",
    "\n",
    "x_train_4 = x_train.iloc[:,[3,13,14]] # Total population, education\n",
    "x_test_4 = x_test.iloc[:,[3,13,14]]\n",
    "\n",
    "train_sets = [x_train_1, x_train_2, x_train_3, x_train_4]\n",
    "test_sets = [x_test_1, x_test_2, x_test_3, x_test_4]\n",
    "\n",
    "train_sets_scaled = []\n",
    "test_sets_scaled = []\n",
    "\n",
    "# scale each pair of training and test sets\n",
    "for i in range(len(train_sets)):\n",
    "    scaler = StandardScaler().fit(train_sets[i])\n",
    "    train_sets_scaled.append(scaler.transform(train_sets[i]))\n",
    "    test_sets_scaled.append(scaler.transform(test_sets[i]))"
   ]
  },
  {
   "cell_type": "code",
   "execution_count": 15,
   "metadata": {},
   "outputs": [
    {
     "output_type": "stream",
     "name": "stdout",
     "text": [
      "Model: K-Nearest Neighbors\n",
      "Number of neighbors:  3  ------------\n",
      "Train set: # 0  ------------\n",
      "Accuracy: \t 0.804\n",
      "Precision: \t [0.8206278  0.73076923]\n",
      "Recall: \t [0.92893401 0.48717949]\n",
      "F1 Score: \t [0.87142857 0.58461538]\n",
      "Number of neighbors:  3  ------------\n",
      "Train set: # 1  ------------\n",
      "Accuracy: \t 0.702\n",
      "Precision: \t [0.75784753 0.46153846]\n",
      "Recall: \t [0.85786802 0.30769231]\n",
      "F1 Score: \t [0.8047619  0.36923077]\n",
      "Number of neighbors:  3  ------------\n",
      "Train set: # 2  ------------\n",
      "Accuracy: \t 0.727\n",
      "Precision: \t [0.75847458 0.53846154]\n",
      "Recall: \t [0.90862944 0.26923077]\n",
      "F1 Score: \t [0.82678984 0.35897436]\n",
      "Number of neighbors:  3  ------------\n",
      "Train set: # 3  ------------\n",
      "Accuracy: \t 0.716\n",
      "Precision: \t [0.76681614 0.5       ]\n",
      "Recall: \t [0.8680203  0.33333333]\n",
      "F1 Score: \t [0.81428571 0.4       ]\n",
      "Number of neighbors:  4  ------------\n",
      "Train set: # 0  ------------\n",
      "Accuracy: \t 0.796\n",
      "Precision: \t [0.79497908 0.80555556]\n",
      "Recall: \t [0.96446701 0.37179487]\n",
      "F1 Score: \t [0.87155963 0.50877193]\n",
      "Number of neighbors:  4  ------------\n",
      "Train set: # 1  ------------\n",
      "Accuracy: \t 0.753\n",
      "Precision: \t [0.75903614 0.69230769]\n",
      "Recall: \t [0.95939086 0.23076923]\n",
      "F1 Score: \t [0.84753363 0.34615385]\n",
      "Number of neighbors:  4  ------------\n",
      "Train set: # 2  ------------\n",
      "Accuracy: \t 0.749\n",
      "Precision: \t [0.7519685  0.71428571]\n",
      "Recall: \t [0.96954315 0.19230769]\n",
      "F1 Score: \t [0.84700665 0.3030303 ]\n",
      "Number of neighbors:  4  ------------\n",
      "Train set: # 3  ------------\n",
      "Accuracy: \t 0.742\n",
      "Precision: \t [0.76033058 0.60606061]\n",
      "Recall: \t [0.93401015 0.25641026]\n",
      "F1 Score: \t [0.83826879 0.36036036]\n",
      "Number of neighbors:  5  ------------\n",
      "Train set: # 0  ------------\n",
      "Accuracy: \t 0.818\n",
      "Precision: \t [0.8209607  0.80434783]\n",
      "Recall: \t [0.95431472 0.47435897]\n",
      "F1 Score: \t [0.88262911 0.59677419]\n",
      "Number of neighbors:  5  ------------\n",
      "Train set: # 1  ------------\n",
      "Accuracy: \t 0.727\n",
      "Precision: \t [0.76293103 0.53488372]\n",
      "Recall: \t [0.89847716 0.29487179]\n",
      "F1 Score: \t [0.82517483 0.38016529]\n",
      "Number of neighbors:  5  ------------\n",
      "Train set: # 2  ------------\n",
      "Accuracy: \t 0.753\n",
      "Precision: \t [0.76987448 0.63888889]\n",
      "Recall: \t [0.93401015 0.29487179]\n",
      "F1 Score: \t [0.8440367  0.40350877]\n",
      "Number of neighbors:  5  ------------\n",
      "Train set: # 3  ------------\n",
      "Accuracy: \t 0.753\n",
      "Precision: \t [0.78165939 0.60869565]\n",
      "Recall: \t [0.90862944 0.35897436]\n",
      "F1 Score: \t [0.84037559 0.4516129 ]\n"
     ]
    }
   ],
   "source": [
    "# Classification model #1: K-NN\n",
    "print(\"Model: K-Nearest Neighbors\")\n",
    "num_neighbors = [3,4,5]\n",
    "\n",
    "# create models for each number of nearest neighbors\n",
    "for n in num_neighbors:\n",
    "    # create models for each combination of features\n",
    "    for s in range(len(train_sets_scaled)):\n",
    "        classifier = KNeighborsClassifier(n_neighbors=n)  \n",
    "        classifier.fit(train_sets_scaled[s], y_train['Party'])\n",
    "\n",
    "        y_pred = classifier.predict(test_sets_scaled[s])\n",
    "\n",
    "        accuracy = metrics.accuracy_score(y_test['Party'], y_pred)\n",
    "        error = 1 - accuracy\n",
    "        precision = metrics.precision_score(y_test['Party'], y_pred, average = None)\n",
    "        recall = metrics.recall_score(y_test['Party'], y_pred, average = None)\n",
    "        F1_score = (2 * recall * precision) / (recall + precision)\n",
    "        print(\"Number of neighbors: \", n, \" ------------\")\n",
    "        print(\"Test set: #\", s, \" ------------\")\n",
    "        print('Accuracy: \\t', round(accuracy,3))\n",
    "        print('Precision: \\t', precision)\n",
    "        print('Recall: \\t', recall)\n",
    "        print('F1 Score: \\t', F1_score)"
   ]
  },
  {
   "source": [
    "# K-Nearest Neighbor Classification WITH feature selection\n",
    "                Accuracy    Precision      Recall         F1 Score\n",
    "KNN - 3, 0      0.804       [0.821 0.731]  [0.929 0.487]  [0.871 0.585]\n",
    "KNN - 3, 1      0.702       [0.758 0.462]  [0.858 0.308]  [0.805 0.369]\n",
    "KNN - 3, 2      0.727       [0.758 0.538]  [0.909 0.269]  [0.827 0.359]\n",
    "KNN - 3, 3      0.716       [0.767 0.5  ]  [0.868 0.333]  [0.814 0.4  ]\n",
    "\n",
    "KNN - 4, 0      0.796       [0.795 0.806]  [0.964 0.372]  [0.872 0.509]\n",
    "KNN - 4, 1      0.753       [0.759 0.692]  [0.959 0.231]  [0.848 0.346]\n",
    "KNN - 4, 2      0.749       [0.752 0.714]  [0.970 0.192]  [0.847 0.303]\n",
    "KNN - 4, 3      0.742       [0.760 0.606]  [0.934 0.256]  [0.838 0.360]\n",
    "\n",
    "KNN - 5, 0      0.818       [0.821 0.804]  [0.954 0.474]  [0.883 0.597]\n",
    "KNN - 5, 1      0.727       [0.763 0.535]  [0.898 0.295]  [0.825 0.380]\n",
    "KNN - 5, 2      0.753       [0.770 0.639]  [0.934 0.295]  [0.844 0.404]\n",
    "KNN - 5, 3      0.753       [0.782 0.609]  [0.909 0.359]  [0.840 0.452]\n",
    "\n",
    "Best combination: nn: 5, set: 0"
   ],
   "cell_type": "code",
   "metadata": {},
   "execution_count": null,
   "outputs": []
  },
  {
   "cell_type": "code",
   "execution_count": 16,
   "metadata": {},
   "outputs": [
    {
     "output_type": "stream",
     "name": "stdout",
     "text": [
      "Model: Naive Bayes\nTest set # 0\nAccuracy: \t 0.753\nPrecision: \t [0.78666667 0.6       ]\nRecall: \t [0.89847716 0.38461538]\nF1 Score: \t [0.83886256 0.46875   ]\nTest set # 1\nAccuracy: \t 0.767\nPrecision: \t [0.76923077 0.75      ]\nRecall: \t [0.96446701 0.26923077]\nF1 Score: \t [0.85585586 0.39622642]\nTest set # 2\nAccuracy: \t 0.753\nPrecision: \t [0.7611336  0.67857143]\nRecall: \t [0.95431472 0.24358974]\nF1 Score: \t [0.84684685 0.35849057]\nTest set # 3\nAccuracy: \t 0.756\nPrecision: \t [0.77310924 0.64864865]\nRecall: \t [0.93401015 0.30769231]\nF1 Score: \t [0.84597701 0.4173913 ]\n"
     ]
    }
   ],
   "source": [
    "# Classification model #2: Naive Bayes\n",
    "print(\"Model: Naive Bayes\")\n",
    "\n",
    "classifier = GaussianNB()\n",
    "\n",
    "for s in range(len(train_sets_scaled)):\n",
    "    classifier.fit(train_sets_scaled[s], y_train['Party'])\n",
    "    y_pred = classifier.predict(test_sets_scaled[s])\n",
    "\n",
    "    accuracy = metrics.accuracy_score(y_test['Party'], y_pred)\n",
    "    error = 1 - accuracy\n",
    "    precision = metrics.precision_score(y_test['Party'], y_pred, average = None)\n",
    "    recall = metrics.recall_score(y_test['Party'], y_pred, average = None)\n",
    "    F1_score = (2 * recall * precision) / (recall + precision)\n",
    "    print('Test set #', s)\n",
    "    print('Accuracy: \\t', round(accuracy,3))\n",
    "    print('Precision: \\t', precision)\n",
    "    print('Recall: \\t', recall)\n",
    "    print('F1 Score: \\t', F1_score)"
   ]
  },
  {
   "cell_type": "code",
   "execution_count": null,
   "metadata": {},
   "outputs": [],
   "source": [
    "# Naive Bayes Classification WITH feature selection\n",
    "        Accuracy    Precision       Recall          F1 Score\n",
    "Set 0   0.753       [0.787 0.6  ]   [0.898 0.385]   [0.839 0.469]\n",
    "Set 1   0.767       [0.769 0.75 ]   [0.964 0.269]   [0.856 0.396]\n",
    "Set 2   0.753       [0.761 0.679]   [0.954 0.244]   [0.847 0.358]\n",
    "Set 3   0.756       [0.773 0.649]   [0.934 0.308]   [0.846 0.417]\n",
    "\n",
    "Best set: 1 (or 0)"
   ]
  },
  {
   "cell_type": "code",
   "execution_count": 17,
   "metadata": {},
   "outputs": [
    {
     "output_type": "stream",
     "name": "stdout",
     "text": [
      "Model: Support Vector Machines\n",
      "Kernel:  linear\n",
      "Test set # 0\n",
      "Accuracy: \t 0.764\n",
      "Precision: \t [0.75984252 0.80952381]\n",
      "Recall: \t [0.97969543 0.21794872]\n",
      "F1 Score: \t [0.85587583 0.34343434]\n",
      "Kernel:  linear\n",
      "Test set # 1\n",
      "Accuracy: \t 0.753\n",
      "Precision: \t [0.74712644 0.85714286]\n",
      "Recall: \t [0.98984772 0.15384615]\n",
      "F1 Score: \t [0.85152838 0.26086957]\n",
      "Kernel:  linear\n",
      "Test set # 2\n",
      "Accuracy: \t 0.749\n",
      "Precision: \t [0.74427481 0.84615385]\n",
      "Recall: \t [0.98984772 0.14102564]\n",
      "F1 Score: \t [0.8496732  0.24175824]\n",
      "Kernel:  linear\n",
      "Test set # 3\n",
      "Accuracy: \t 0.753\n",
      "Precision: \t [0.7611336  0.67857143]\n",
      "Recall: \t [0.95431472 0.24358974]\n",
      "F1 Score: \t [0.84684685 0.35849057]\n",
      "Kernel:  poly\n",
      "Test set # 0\n",
      "Accuracy: \t 0.796\n",
      "Precision: \t [0.78313253 0.92307692]\n",
      "Recall: \t [0.98984772 0.30769231]\n",
      "F1 Score: \t [0.87443946 0.46153846]\n",
      "Kernel:  poly\n",
      "Test set # 1\n",
      "Accuracy: \t 0.731\n",
      "Precision: \t [0.73033708 0.75      ]\n",
      "Recall: \t [0.98984772 0.07692308]\n",
      "F1 Score: \t [0.84051724 0.13953488]\n",
      "Kernel:  poly\n",
      "Test set # 2\n",
      "Accuracy: \t 0.753\n",
      "Precision: \t [0.74524715 0.91666667]\n",
      "Recall: \t [0.99492386 0.14102564]\n",
      "F1 Score: \t [0.85217391 0.24444444]\n",
      "Kernel:  poly\n",
      "Test set # 3\n",
      "Accuracy: \t 0.735\n",
      "Precision: \t [0.73664122 0.69230769]\n",
      "Recall: \t [0.97969543 0.11538462]\n",
      "F1 Score: \t [0.84095861 0.1978022 ]\n",
      "Kernel:  rbf\n",
      "Test set # 0\n",
      "Accuracy: \t 0.818\n",
      "Precision: \t [0.81012658 0.86842105]\n",
      "Recall: \t [0.97461929 0.42307692]\n",
      "F1 Score: \t [0.88479263 0.56896552]\n",
      "Kernel:  rbf\n",
      "Test set # 1\n",
      "Accuracy: \t 0.76\n",
      "Precision: \t [0.76518219 0.71428571]\n",
      "Recall: \t [0.95939086 0.25641026]\n",
      "F1 Score: \t [0.85135135 0.37735849]\n",
      "Kernel:  rbf\n",
      "Test set # 2\n",
      "Accuracy: \t 0.753\n",
      "Precision: \t [0.75294118 0.75      ]\n",
      "Recall: \t [0.97461929 0.19230769]\n",
      "F1 Score: \t [0.84955752 0.30612245]\n",
      "Kernel:  rbf\n",
      "Test set # 3\n",
      "Accuracy: \t 0.749\n",
      "Precision: \t [0.76229508 0.64516129]\n",
      "Recall: \t [0.94416244 0.25641026]\n",
      "F1 Score: \t [0.84353741 0.36697248]\n",
      "Kernel:  sigmoid\n",
      "Test set # 0\n",
      "Accuracy: \t 0.695\n",
      "Precision: \t [0.77560976 0.45714286]\n",
      "Recall: \t [0.8071066  0.41025641]\n",
      "F1 Score: \t [0.79104478 0.43243243]\n",
      "Kernel:  sigmoid\n",
      "Test set # 1\n",
      "Accuracy: \t 0.709\n",
      "Precision: \t [0.77209302 0.48333333]\n",
      "Recall: \t [0.84263959 0.37179487]\n",
      "F1 Score: \t [0.80582524 0.42028986]\n",
      "Kernel:  sigmoid\n",
      "Test set # 2\n",
      "Accuracy: \t 0.68\n",
      "Precision: \t [0.74660633 0.40740741]\n",
      "Recall: \t [0.83756345 0.28205128]\n",
      "F1 Score: \t [0.78947368 0.33333333]\n",
      "Kernel:  sigmoid\n",
      "Test set # 3\n",
      "Accuracy: \t 0.727\n",
      "Precision: \t [0.79901961 0.52112676]\n",
      "Recall: \t [0.82741117 0.47435897]\n",
      "F1 Score: \t [0.81296758 0.4966443 ]\n"
     ]
    }
   ],
   "source": [
    "# Classification model #3: SVM\n",
    "print(\"Model: Support Vector Machines\")\n",
    "kernels = ['linear', 'poly', 'rbf', 'sigmoid']\n",
    "\n",
    "for k in kernels:\n",
    "    for s in range(len(train_sets_scaled)):\n",
    "        print(\"Kernel: \", k)\n",
    "        print(\"Test set #\", s)\n",
    "        classifier = SVC(kernel=k)  \n",
    "        classifier.fit(train_sets_scaled[s], y_train['Party'])\n",
    "\n",
    "        y_pred = classifier.predict(test_sets_scaled[s])\n",
    "\n",
    "        accuracy = metrics.accuracy_score(y_test['Party'], y_pred)\n",
    "        error = 1 - accuracy\n",
    "        precision = metrics.precision_score(y_test['Party'], y_pred, average = None)\n",
    "        recall = metrics.recall_score(y_test['Party'], y_pred, average = None)\n",
    "        F1_score = (2 * recall * precision) / (recall + precision)\n",
    "        print('Accuracy: \\t', round(accuracy,3))\n",
    "        print('Precision: \\t', precision)\n",
    "        print('Recall: \\t', recall)\n",
    "        print('F1 Score: \\t', F1_score)"
   ]
  },
  {
   "cell_type": "code",
   "execution_count": null,
   "metadata": {},
   "outputs": [],
   "source": [
    "# SVM Classification WITH feature selection\n",
    "            Accuracy    Precision       Recall          F1 Score\n",
    "linear, 0   0.764       [0.760 0.810]   [0.980 0.218]   [0.856 0.343]\n",
    "linear, 1   0.753       [0.747 0.857]   [0.990 0.154]   [0.852 0.261]\n",
    "linear, 2   0.749       [0.744 0.846]   [0.990 0.141]   [0.850 0.242]\n",
    "linear, 3   0.753       [0.761 0.679]   [0.954 0.244]   [0.847 0.358]\n",
    "\n",
    "poly, 0     0.796       [0.783 0.923]   [0.990 0.308]   [0.874 0.462]\n",
    "poly, 1     0.731       [0.730 0.75 ]   [0.990 0.077]   [0.841 0.140]\n",
    "poly, 2     0.753       [0.745 0.917]   [0.995 0.141]   [0.852 0.244]\n",
    "poly, 3     0.735       [0.737 0.692]   [0.980 0.115]   [0.841 0.198]\n",
    "\n",
    "rbf, 0      0.818       [0.810 0.868]   [0.975 0.423]   [0.885 0.569]\n",
    "rbf, 1      0.76        [0.765 0.714]   [0.959 0.256]   [0.851 0.377]\n",
    "rbf, 2      0.753       [0.753 0.75 ]   [0.975 0.192]   [0.850 0.306]\n",
    "rbf, 3      0.749       [0.762 0.645]   [0.944 0.256]   [0.844 0.367]\n",
    "\n",
    "sigmoid, 0  0.695       [0.776 0.457]   [0.807 0.410]   [0.791 0.432]\n",
    "sigmoid, 1  0.709       [0.772 0.483]   [0.843 0.372]   [0.806 0.420]\n",
    "sigmoid, 2  0.68        [0.747 0.407]   [0.838 0.282]   [0.789 0.333]\n",
    "sigmoid, 3  0.727       [0.799 0.521]   [0.827 0.474]   [0.813 0.497]\n",
    "\n",
    "Best combination: kernel: rbf, set: 0"
   ]
  },
  {
   "cell_type": "code",
   "execution_count": null,
   "metadata": {},
   "outputs": [],
   "source": [
    "# Final analysis\n",
    "                Accuracy    Precision       Recall          F1 Score\n",
    "KNN - 5, 0      0.818       [0.821 0.804]   [0.954 0.474]   [0.883 0.597]\n",
    "NB - Set 0      0.753       [0.787 0.6  ]   [0.898 0.385]   [0.839 0.469]\n",
    "NB - Set 1      0.767       [0.769 0.75 ]   [0.964 0.269]   [0.856 0.396]\n",
    "SVM - rbf, 0    0.818       [0.810 0.868]   [0.975 0.423]   [0.885 0.569]\n",
    "SVM - rbf, all  0.815       [0.817 0.8  ]   [0.954 0.462]   [0.881 0.585]\n",
    "\n",
    "Overall best: KNN, nn: 5, set: 0\n"
   ]
  },
  {
   "cell_type": "markdown",
   "metadata": {},
   "source": [
    "**Task 4 Analysis:**\n",
    "*Best model:* The model that gave us the best results was the KNN model with 5 nearest neighbors using set 0 ('Total population' and all features related to racial diversity), although it performed very similarly to the SVM model that used the 'rbf' kernel and set 0. To select the parameters of the models, we chose 3 different numbers of nearest neighbors for the K-NN model and all the possible kernels (except for 'precomputed') for the SVM model. In terms of features, we created 4 different combinations of features. While every set had \"Total Population\" as a feature, the first set (set 0) had all features relating to the racial diversity of each county. Sets 1, 2, and 3 contained features related to age, income, and education respectively. "
   ]
  },
  {
   "cell_type": "markdown",
   "metadata": {},
   "source": [
    "***Task 5: Clustering models***"
   ]
  },
  {
   "cell_type": "code",
   "execution_count": 247,
   "metadata": {},
   "outputs": [],
   "source": [
    "# Task 5\n",
    "#Partiion data set into True Clusters and Attributes\n",
    "x = df.iloc[:,2:-2]\n",
    "x.head()\n",
    "\n",
    "scaler = StandardScaler()  # scale\n",
    "scaler.fit(x)\n",
    "x_scaled = scaler.transform(x)\n",
    "\n",
    "feature_set = [\"All features\", \"Total population,ethnic,education and %rural/urban features\", \"Total population, ethnic and age data\", \"All features except %female, %foreign born and %unemployed\"]\n",
    "\n",
    "x_1 = df.iloc[:,[3,10,11,12]] #Total population,ethnic,education and %rural/urban features\n",
    "x_2 = df.iloc[:,[3,6,7,8]] #Total population, ethnic and age data\n",
    "x_3 = df.iloc[:,[3,6,7,8,10,11,12]] #All features except %female, %foreign born and %unemployed\n",
    "\n",
    "y = df[\"Party\"] "
   ]
  },
  {
   "cell_type": "code",
   "execution_count": 248,
   "metadata": {
    "scrolled": true
   },
   "outputs": [
    {
     "name": "stdout",
     "output_type": "stream",
     "text": [
      "DBSCAN 5 Minimum samples\n",
      "\n",
      "Unsupervised Metrics\n",
      "Adjusted Random Index:\t 0.17838248594018535 \n",
      "\n",
      "All features\n",
      "Silhouette Coefficient:\t 0.11757915833565608 \n",
      "\n",
      "Total population,ethnic,education and %rural/urban features\n",
      "Silhouette Coefficient:\t 0.11985047205188716 \n",
      "\n",
      "Total population, ethnic and age data\n",
      "Silhouette Coefficient:\t 0.13067358455053382 \n",
      "\n",
      "All features except %female, %foreign born and %unemployed\n",
      "Silhouette Coefficient:\t 0.11985043796071204 \n",
      "\n"
     ]
    },
    {
     "data": {
      "text/plain": [
       "[Text(0.5, 1.0, 'County party data'),\n",
       " Text(0.5, 0, 'Democratic'),\n",
       " Text(0, 0.5, 'Republican')]"
      ]
     },
     "execution_count": 248,
     "metadata": {},
     "output_type": "execute_result"
    },
    {
     "data": {
      "image/png": "[encoded data removed]",
      "text/plain": [
       "<Figure size 432x288 with 2 Axes>"
      ]
     },
     "metadata": {
      "needs_background": "light"
     },
     "output_type": "display_data"
    },
    {
     "data": {
      "image/png": "[encoded data removed]",
      "text/plain": [
       "<Figure size 432x288 with 2 Axes>"
      ]
     },
     "metadata": {
      "needs_background": "light"
     },
     "output_type": "display_data"
    }
   ],
   "source": [
    "#DBSCAN 5 min Samples\n",
    "clustering = DBSCAN(eps = 2, min_samples = 5, metric = \"euclidean\").fit(x_scaled)\n",
    "clusters = clustering.labels_\n",
    "df[\"clusters\"] = pd.Series(clusters) #update data frame\n",
    "\n",
    "#Unsupervised metrics\n",
    "print(\"DBSCAN 5 Minimum samples\\n\")\n",
    "print(\"Unsupervised Metrics\")\n",
    "adjusted_rand_index = metrics.adjusted_rand_score(y, clusters)\n",
    "print(\"Adjusted Random Index:\\t\",adjusted_rand_index, \"\\n\")\n",
    "num = 0\n",
    "for f in [x, x_1, x_2, x_3]: #different feature sets\n",
    "    silhouette_coefficient = metrics.silhouette_score(f, clusters, metric = \"euclidean\")\n",
    "    print(feature_set[num])\n",
    "    print(\"Silhouette Coefficient:\\t\", silhouette_coefficient, \"\\n\")\n",
    "    num += 1\n",
    "\n",
    "#Supervised metrics\n",
    "cont_matrix = metrics.cluster.contingency_matrix(y, clusters)\n",
    "sns.heatmap(cont_matrix, annot = True, fmt = \".3f\", square = True, cmap = plt.cm.Blues)\n",
    "plt.ylabel('Actual')\n",
    "plt.xlabel('Predicted')\n",
    "plt.title('Contingency matrix')\n",
    "plt.tight_layout()\n",
    "\n",
    "ax = df.plot(kind = 'scatter', x = 'Democratic', y = 'Republican', c = 'clusters', colormap = plt.cm.brg)\n",
    "ax.set(title = 'County party data', xlabel = 'Democratic', ylabel = 'Republican')"
   ]
  },
  {
   "cell_type": "code",
   "execution_count": 249,
   "metadata": {},
   "outputs": [
    {
     "name": "stdout",
     "output_type": "stream",
     "text": [
      "DBSCAN 10 Minimum samples\n",
      "\n",
      "Unsupervised Metrics\n",
      "Adjusted Random Index:\t 0.15616347654499968 \n",
      "\n",
      "All features\n",
      "Silhouette Coefficient:\t 0.42496567175991207 \n",
      "\n",
      "Total population,ethnic,education and %rural/urban features\n",
      "Silhouette Coefficient:\t 0.42999296696252887 \n",
      "\n",
      "Total population, ethnic and age data\n",
      "Silhouette Coefficient:\t 0.4329584312987028 \n",
      "\n",
      "All features except %female, %foreign born and %unemployed\n",
      "Silhouette Coefficient:\t 0.4299929689977308 \n",
      "\n"
     ]
    },
    {
     "data": {
      "text/plain": [
       "[Text(0.5, 1.0, 'County party data'),\n",
       " Text(0.5, 0, 'Democratic'),\n",
       " Text(0, 0.5, 'Republican')]"
      ]
     },
     "execution_count": 249,
     "metadata": {},
     "output_type": "execute_result"
    },
    {
     "data": {
      "image/png": "[encoded data removed]",
      "text/plain": [
       "<Figure size 432x288 with 2 Axes>"
      ]
     },
     "metadata": {
      "needs_background": "light"
     },
     "output_type": "display_data"
    },
    {
     "data": {
      "image/png": "[encoded data removed]",
      "text/plain": [
       "<Figure size 432x288 with 2 Axes>"
      ]
     },
     "metadata": {
      "needs_background": "light"
     },
     "output_type": "display_data"
    }
   ],
   "source": [
    "#DBSCAN 10 min Samples\n",
    "clustering = DBSCAN(eps = 2, min_samples = 10, metric = \"euclidean\").fit(x_scaled)\n",
    "clusters = clustering.labels_\n",
    "df[\"clusters\"] = pd.Series(clusters) #update data frame\n",
    "\n",
    "#Unsupervised metrics\n",
    "print(\"DBSCAN 10 Minimum samples\\n\")\n",
    "print(\"Unsupervised Metrics\")\n",
    "adjusted_rand_index = metrics.adjusted_rand_score(y, clusters)\n",
    "print(\"Adjusted Random Index:\\t\",adjusted_rand_index, \"\\n\")\n",
    "num = 0\n",
    "for f in [x, x_1, x_2, x_3]: #different feature sets\n",
    "    silhouette_coefficient = metrics.silhouette_score(f, clusters, metric = \"euclidean\")\n",
    "    print(feature_set[num])\n",
    "    print(\"Silhouette Coefficient:\\t\", silhouette_coefficient, \"\\n\")\n",
    "    num += 1\n",
    "\n",
    "#Supervised metrics\n",
    "cont_matrix = metrics.cluster.contingency_matrix(y, clusters)\n",
    "sns.heatmap(cont_matrix, annot = True, fmt = \".3f\", square = True, cmap = plt.cm.Blues)\n",
    "plt.ylabel('Actual')\n",
    "plt.xlabel('Predicted')\n",
    "plt.title('Contingency matrix')\n",
    "plt.tight_layout()\n",
    "\n",
    "ax = df.plot(kind = 'scatter', x = 'Democratic', y = 'Republican', c = 'clusters', colormap = plt.cm.brg)\n",
    "ax.set(title = 'County party data', xlabel = 'Democratic', ylabel = 'Republican')"
   ]
  },
  {
   "cell_type": "code",
   "execution_count": 250,
   "metadata": {},
   "outputs": [
    {
     "name": "stdout",
     "output_type": "stream",
     "text": [
      "Random Initilization 10 iteration and 2 clusters\n",
      "\n",
      "Unsupervised Metrics\n",
      "Adjusted Random Index:\t 0.2222399364746049 \n",
      "\n",
      "All features\n",
      "Silhouette Coefficient:\t 0.531920226272818 \n",
      "\n",
      "Total population,ethnic,education and %rural/urban features\n",
      "Silhouette Coefficient:\t 0.5401956732528918 \n",
      "\n",
      "Total population, ethnic and age data\n",
      "Silhouette Coefficient:\t 0.5451716363041155 \n",
      "\n",
      "All features except %female, %foreign born and %unemployed\n",
      "Silhouette Coefficient:\t 0.5401956847578013 \n",
      "\n"
     ]
    },
    {
     "data": {
      "text/plain": [
       "[Text(0.5, 1.0, 'County party data'),\n",
       " Text(0.5, 0, 'Democratic'),\n",
       " Text(0, 0.5, 'Republican')]"
      ]
     },
     "execution_count": 250,
     "metadata": {},
     "output_type": "execute_result"
    },
    {
     "data": {
      "image/png": "[encoded data removed]",
      "text/plain": [
       "<Figure size 432x288 with 2 Axes>"
      ]
     },
     "metadata": {
      "needs_background": "light"
     },
     "output_type": "display_data"
    },
    {
     "data": {
      "image/png": "[encoded data removed]",
      "text/plain": [
       "<Figure size 432x288 with 2 Axes>"
      ]
     },
     "metadata": {
      "needs_background": "light"
     },
     "output_type": "display_data"
    }
   ],
   "source": [
    "#Various Feature sets \n",
    "#KMeans clustering 1 iteration, 2n clusters, random initialization\n",
    " #Show Clusters\n",
    "clustering = KMeans(n_clusters = 2, n_init = 10, random_state = 0, init = 'random' ).fit(x_scaled)\n",
    "clusters = clustering.labels_\n",
    "df[\"clusters\"] = pd.Series(clusters) #update data frame\n",
    "\n",
    "#Unsupervised metrics\n",
    "print(\"Random Initilization 10 iteration and 2 clusters\\n\")\n",
    "print(\"Unsupervised Metrics\")\n",
    "adjusted_rand_index = metrics.adjusted_rand_score(y, clusters)\n",
    "print(\"Adjusted Random Index:\\t\",adjusted_rand_index, \"\\n\")\n",
    "num = 0\n",
    "for f in [x, x_1, x_2, x_3]: #different feature sets\n",
    "    silhouette_coefficient = metrics.silhouette_score(f, clusters, metric = \"euclidean\")\n",
    "    print(feature_set[num])\n",
    "    print(\"Silhouette Coefficient:\\t\", silhouette_coefficient, \"\\n\")\n",
    "    num += 1\n",
    "\n",
    "#Supervised metrics\n",
    "cont_matrix = metrics.cluster.contingency_matrix(y, clusters)\n",
    "sns.heatmap(cont_matrix, annot = True, fmt = \".3f\", square = True, cmap = plt.cm.Blues)\n",
    "plt.ylabel('Actual')\n",
    "plt.xlabel('Predicted')\n",
    "plt.title('Contingency matrix')\n",
    "plt.tight_layout()\n",
    "\n",
    "ax = df.plot(kind = 'scatter', x = 'Democratic', y = 'Republican', c = 'clusters', colormap = plt.cm.brg)\n",
    "ax.set(title = 'County party data', xlabel = 'Democratic', ylabel = 'Republican')"
   ]
  },
  {
   "cell_type": "code",
   "execution_count": 251,
   "metadata": {},
   "outputs": [
    {
     "name": "stdout",
     "output_type": "stream",
     "text": [
      "K-Means++ Initilization 10 iteration and 2 clusters\n",
      "\n",
      "Unsupervised Metrics\n",
      "Adjusted Random Index:\t 0.21950742860622852 \n",
      "\n",
      "All features\n",
      "Silhouette Coefficient:\t 0.5362353605211608 \n",
      "\n",
      "Total population,ethnic,education and %rural/urban features\n",
      "Silhouette Coefficient:\t 0.5444652844065617 \n",
      "\n",
      "Total population, ethnic and age data\n",
      "Silhouette Coefficient:\t 0.549597637844138 \n",
      "\n",
      "All features except %female, %foreign born and %unemployed\n",
      "Silhouette Coefficient:\t 0.5444652958417578 \n",
      "\n"
     ]
    },
    {
     "data": {
      "text/plain": [
       "[Text(0.5, 1.0, 'County party data'),\n",
       " Text(0.5, 0, 'Democratic'),\n",
       " Text(0, 0.5, 'Republican')]"
      ]
     },
     "execution_count": 251,
     "metadata": {},
     "output_type": "execute_result"
    },
    {
     "data": {
      "image/png": "[encoded data removed]",
      "text/plain": [
       "<Figure size 432x288 with 2 Axes>"
      ]
     },
     "metadata": {
      "needs_background": "light"
     },
     "output_type": "display_data"
    },
    {
     "data": {
      "image/png": "[encoded data removed]",
      "text/plain": [
       "<Figure size 432x288 with 2 Axes>"
      ]
     },
     "metadata": {
      "needs_background": "light"
     },
     "output_type": "display_data"
    }
   ],
   "source": [
    "#KMeans clustering 10 iterations, 2n clusters, k-means++ initialization\n",
    " #Show Clusters\n",
    "clustering = KMeans(n_clusters = 2, n_init = 10, random_state = 0, init = 'k-means++' ).fit(x_scaled)\n",
    "clusters = clustering.labels_\n",
    "df[\"clusters\"] = pd.Series(clusters) #update data frame\n",
    "\n",
    "#Unsupervised metrics\n",
    "print(\"K-Means++ Initilization 10 iteration and 2 clusters\\n\")\n",
    "print(\"Unsupervised Metrics\")\n",
    "adjusted_rand_index = metrics.adjusted_rand_score(y, clusters)\n",
    "print(\"Adjusted Random Index:\\t\",adjusted_rand_index, \"\\n\")\n",
    "num = 0\n",
    "for f in [x, x_1, x_2, x_3]: #different feature sets\n",
    "    silhouette_coefficient = metrics.silhouette_score(f, clusters, metric = \"euclidean\")\n",
    "    print(feature_set[num])\n",
    "    print(\"Silhouette Coefficient:\\t\", silhouette_coefficient, \"\\n\")\n",
    "    num += 1\n",
    "\n",
    "#Supervised metrics\n",
    "cont_matrix = metrics.cluster.contingency_matrix(y, clusters)\n",
    "sns.heatmap(cont_matrix, annot = True, fmt = \".3f\", square = True, cmap = plt.cm.Blues)\n",
    "plt.ylabel('Actual')\n",
    "plt.xlabel('Predicted')\n",
    "plt.title('Contingency matrix')\n",
    "plt.tight_layout()\n",
    "\n",
    "ax = df.plot(kind = 'scatter', x = 'Democratic', y = 'Republican', c = 'clusters', colormap = plt.cm.brg)\n",
    "ax.set(title = 'County party data', xlabel = 'Democratic', ylabel = 'Republican')"
   ]
  },
  {
   "cell_type": "code",
   "execution_count": 252,
   "metadata": {},
   "outputs": [
    {
     "name": "stdout",
     "output_type": "stream",
     "text": [
      "Random Initilization 50 iterations and 2 clusters\n",
      "\n",
      "Unsupervised Metrics\n",
      "Adjusted Random Index:\t 0.2222399364746049 \n",
      "\n",
      "All features\n",
      "Silhouette Coefficient:\t 0.531920226272818 \n",
      "\n",
      "Total population,ethnic,education and %rural/urban features\n",
      "Silhouette Coefficient:\t 0.5401956732528918 \n",
      "\n",
      "Total population, ethnic and age data\n",
      "Silhouette Coefficient:\t 0.5451716363041155 \n",
      "\n",
      "All features except %female, %foreign born and %unemployed\n",
      "Silhouette Coefficient:\t 0.5401956847578013 \n",
      "\n"
     ]
    },
    {
     "data": {
      "text/plain": [
       "[Text(0.5, 1.0, 'County party data'),\n",
       " Text(0.5, 0, 'Democratic'),\n",
       " Text(0, 0.5, 'Republican')]"
      ]
     },
     "execution_count": 252,
     "metadata": {},
     "output_type": "execute_result"
    },
    {
     "data": {
      "image/png": "[encoded data removed]",
      "text/plain": [
       "<Figure size 432x288 with 2 Axes>"
      ]
     },
     "metadata": {
      "needs_background": "light"
     },
     "output_type": "display_data"
    },
    {
     "data": {
      "image/png": "[encoded data removed]",
      "text/plain": [
       "<Figure size 432x288 with 2 Axes>"
      ]
     },
     "metadata": {
      "needs_background": "light"
     },
     "output_type": "display_data"
    }
   ],
   "source": [
    "#KMeans clustering 50 iterations, 2n clusters, random initialization\n",
    " #Show Clusters\n",
    "clustering = KMeans(n_clusters = 2, n_init = 50, random_state = 1, init = 'random' ).fit(x_scaled)\n",
    "clusters = clustering.labels_\n",
    "df[\"clusters\"] = pd.Series(clusters) #update data frame\n",
    "\n",
    "#Unsupervised metrics\n",
    "print(\"Random Initilization 50 iterations and 2 clusters\\n\")\n",
    "print(\"Unsupervised Metrics\")\n",
    "adjusted_rand_index = metrics.adjusted_rand_score(y, clusters)\n",
    "print(\"Adjusted Random Index:\\t\",adjusted_rand_index, \"\\n\")\n",
    "num = 0\n",
    "for f in [x, x_1, x_2, x_3]: #different feature sets\n",
    "    silhouette_coefficient = metrics.silhouette_score(f, clusters, metric = \"euclidean\")\n",
    "    print(feature_set[num])\n",
    "    print(\"Silhouette Coefficient:\\t\", silhouette_coefficient, \"\\n\")\n",
    "    num += 1\n",
    "\n",
    "#Supervised metrics\n",
    "cont_matrix = metrics.cluster.contingency_matrix(y, clusters)\n",
    "sns.heatmap(cont_matrix, annot = True, fmt = \".3f\", square = True, cmap = plt.cm.Blues)\n",
    "plt.ylabel('Actual')\n",
    "plt.xlabel('Predicted')\n",
    "plt.title('Contingency matrix')\n",
    "plt.tight_layout()\n",
    "\n",
    "ax = df.plot(kind = 'scatter', x = 'Democratic', y = 'Republican', c = 'clusters', colormap = plt.cm.brg)\n",
    "ax.set(title = 'County party data', xlabel = 'Democratic', ylabel = 'Republican')"
   ]
  },
  {
   "cell_type": "code",
   "execution_count": 253,
   "metadata": {},
   "outputs": [
    {
     "name": "stdout",
     "output_type": "stream",
     "text": [
      "K-Means++ Initilization 50 iteration and 2 clusters\n",
      "\n",
      "Unsupervised Metrics\n",
      "Adjusted Random Index:\t 0.2222399364746049 \n",
      "\n",
      "All features\n",
      "Silhouette Coefficient:\t 0.531920226272818 \n",
      "\n",
      "Total population,ethnic,education and %rural/urban features\n",
      "Silhouette Coefficient:\t 0.5401956732528918 \n",
      "\n",
      "Total population, ethnic and age data\n",
      "Silhouette Coefficient:\t 0.5451716363041155 \n",
      "\n",
      "All features except %female, %foreign born and %unemployed\n",
      "Silhouette Coefficient:\t 0.5401956847578013 \n",
      "\n"
     ]
    },
    {
     "data": {
      "text/plain": [
       "[Text(0.5, 1.0, 'County party data'),\n",
       " Text(0.5, 0, 'Democratic'),\n",
       " Text(0, 0.5, 'Republican')]"
      ]
     },
     "execution_count": 253,
     "metadata": {},
     "output_type": "execute_result"
    },
    {
     "data": {
      "image/png": "[encoded data removed]",
      "text/plain": [
       "<Figure size 432x288 with 2 Axes>"
      ]
     },
     "metadata": {
      "needs_background": "light"
     },
     "output_type": "display_data"
    },
    {
     "data": {
      "image/png": "[encoded data removed]",
      "text/plain": [
       "<Figure size 432x288 with 2 Axes>"
      ]
     },
     "metadata": {
      "needs_background": "light"
     },
     "output_type": "display_data"
    }
   ],
   "source": [
    "#KMeans clustering 50 iterations, 2n clusters, k-means++ initialization\n",
    " #Show Clusters\n",
    "clustering = KMeans(n_clusters = 2, n_init = 50, random_state = 1, init = 'k-means++' ).fit(x_scaled)\n",
    "clusters = clustering.labels_\n",
    "df[\"clusters\"] = pd.Series(clusters) #update data frame\n",
    "\n",
    "#Unsupervised metrics\n",
    "print(\"K-Means++ Initilization 50 iteration and 2 clusters\\n\")\n",
    "print(\"Unsupervised Metrics\")\n",
    "adjusted_rand_index = metrics.adjusted_rand_score(y, clusters)\n",
    "print(\"Adjusted Random Index:\\t\",adjusted_rand_index, \"\\n\")\n",
    "num = 0\n",
    "for f in [x, x_1, x_2, x_3]: #different feature sets\n",
    "    silhouette_coefficient = metrics.silhouette_score(f, clusters, metric = \"euclidean\")\n",
    "    print(feature_set[num])\n",
    "    print(\"Silhouette Coefficient:\\t\", silhouette_coefficient, \"\\n\")\n",
    "    num += 1\n",
    "\n",
    "#Supervised metrics\n",
    "cont_matrix = metrics.cluster.contingency_matrix(y, clusters)\n",
    "sns.heatmap(cont_matrix, annot = True, fmt = \".3f\", square = True, cmap = plt.cm.Blues)\n",
    "plt.ylabel('Actual')\n",
    "plt.xlabel('Predicted')\n",
    "plt.title('Contingency matrix')\n",
    "plt.tight_layout()\n",
    "\n",
    "ax = df.plot(kind = 'scatter', x = 'Democratic', y = 'Republican', c = 'clusters', colormap = plt.cm.brg)\n",
    "ax.set(title = 'County party data', xlabel = 'Democratic', ylabel = 'Republican')"
   ]
  },
  {
   "cell_type": "markdown",
   "metadata": {},
   "source": [
    "***Task 6: Map***"
   ]
  },
  {
   "cell_type": "code",
   "execution_count": 254,
   "metadata": {},
   "outputs": [],
   "source": [
    "#Task 6"
   ]
  },
  {
   "cell_type": "markdown",
   "metadata": {},
   "source": [
    "***Task 7: Prediction***"
   ]
  },
  {
   "cell_type": "code",
   "execution_count": null,
   "metadata": {},
   "outputs": [],
   "source": [
    "# Task 7"
   ]
  }
 ],
 "metadata": {
  "kernelspec": {
   "display_name": "Python 3",
   "language": "python",
   "name": "python3"
  },
  "language_info": {
   "codemirror_mode": {
    "name": "ipython",
    "version": 3
   },
   "file_extension": ".py",
   "mimetype": "text/x-python",
   "name": "python",
   "nbconvert_exporter": "python",
   "pygments_lexer": "ipython3",
   "version": "3.7.7-final"
  }
 },
 "nbformat": 4,
 "nbformat_minor": 4
}