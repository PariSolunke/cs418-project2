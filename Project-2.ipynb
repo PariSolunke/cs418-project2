{
 "cells": [
  {
   "cell_type": "code",
   "execution_count": 10,
   "metadata": {},
   "outputs": [],
   "source": [
    "from sklearn.model_selection import train_test_split\n",
    "from sklearn.preprocessing import StandardScaler\n",
    "import pandas as pd\n",
    "import matplotlib.pyplot as plt\n",
    "import seaborn as sns\n",
    "from sklearn.compose import ColumnTransformer\n",
    "from sklearn import linear_model\n",
    "from sklearn.neighbors import KNeighborsClassifier \n",
    "from sklearn.naive_bayes import GaussianNB\n",
    "from sklearn.svm import SVC\n",
    "from sklearn import metrics\n"
   ]
  },
  {
   "cell_type": "code",
   "execution_count": 2,
   "metadata": {},
   "outputs": [
    {
     "data": {
      "text/html": [
       "<div>\n",
       "<style scoped>\n",
       "    .dataframe tbody tr th:only-of-type {\n",
       "        vertical-align: middle;\n",
       "    }\n",
       "\n",
       "    .dataframe tbody tr th {\n",
       "        vertical-align: top;\n",
       "    }\n",
       "\n",
       "    .dataframe thead th {\n",
       "        text-align: right;\n",
       "    }\n",
       "</style>\n",
       "<table border=\"1\" class=\"dataframe\">\n",
       "  <thead>\n",
       "    <tr style=\"text-align: right;\">\n",
       "      <th></th>\n",
       "      <th>State</th>\n",
       "      <th>County</th>\n",
       "      <th>FIPS</th>\n",
       "      <th>Total Population</th>\n",
       "      <th>Percent White, not Hispanic or Latino</th>\n",
       "      <th>Percent Black, not Hispanic or Latino</th>\n",
       "      <th>Percent Hispanic or Latino</th>\n",
       "      <th>Percent Foreign Born</th>\n",
       "      <th>Percent Female</th>\n",
       "      <th>Percent Age 29 and Under</th>\n",
       "      <th>Percent Age 65 and Older</th>\n",
       "      <th>Median Household Income</th>\n",
       "      <th>Percent Unemployed</th>\n",
       "      <th>Percent Less than High School Degree</th>\n",
       "      <th>Percent Less than Bachelor's Degree</th>\n",
       "      <th>Percent Rural</th>\n",
       "      <th>Democratic</th>\n",
       "      <th>Republican</th>\n",
       "      <th>Party</th>\n",
       "    </tr>\n",
       "  </thead>\n",
       "  <tbody>\n",
       "    <tr>\n",
       "      <td>0</td>\n",
       "      <td>AZ</td>\n",
       "      <td>apache</td>\n",
       "      <td>4001</td>\n",
       "      <td>72346</td>\n",
       "      <td>18.571863</td>\n",
       "      <td>0.486551</td>\n",
       "      <td>5.947806</td>\n",
       "      <td>1.719515</td>\n",
       "      <td>50.598513</td>\n",
       "      <td>45.854643</td>\n",
       "      <td>13.322091</td>\n",
       "      <td>32460</td>\n",
       "      <td>15.807433</td>\n",
       "      <td>21.758252</td>\n",
       "      <td>88.941063</td>\n",
       "      <td>74.061076</td>\n",
       "      <td>16298</td>\n",
       "      <td>7810</td>\n",
       "      <td>1</td>\n",
       "    </tr>\n",
       "    <tr>\n",
       "      <td>1</td>\n",
       "      <td>AZ</td>\n",
       "      <td>cochise</td>\n",
       "      <td>4003</td>\n",
       "      <td>128177</td>\n",
       "      <td>56.299492</td>\n",
       "      <td>3.714395</td>\n",
       "      <td>34.403208</td>\n",
       "      <td>11.458374</td>\n",
       "      <td>49.069646</td>\n",
       "      <td>37.902276</td>\n",
       "      <td>19.756275</td>\n",
       "      <td>45383</td>\n",
       "      <td>8.567108</td>\n",
       "      <td>13.409171</td>\n",
       "      <td>76.837055</td>\n",
       "      <td>36.301067</td>\n",
       "      <td>17383</td>\n",
       "      <td>26929</td>\n",
       "      <td>0</td>\n",
       "    </tr>\n",
       "    <tr>\n",
       "      <td>2</td>\n",
       "      <td>AZ</td>\n",
       "      <td>coconino</td>\n",
       "      <td>4005</td>\n",
       "      <td>138064</td>\n",
       "      <td>54.619597</td>\n",
       "      <td>1.342855</td>\n",
       "      <td>13.711033</td>\n",
       "      <td>4.825298</td>\n",
       "      <td>50.581614</td>\n",
       "      <td>48.946141</td>\n",
       "      <td>10.873943</td>\n",
       "      <td>51106</td>\n",
       "      <td>8.238305</td>\n",
       "      <td>11.085381</td>\n",
       "      <td>65.791439</td>\n",
       "      <td>31.466066</td>\n",
       "      <td>34240</td>\n",
       "      <td>19249</td>\n",
       "      <td>1</td>\n",
       "    </tr>\n",
       "    <tr>\n",
       "      <td>3</td>\n",
       "      <td>AZ</td>\n",
       "      <td>gila</td>\n",
       "      <td>4007</td>\n",
       "      <td>53179</td>\n",
       "      <td>63.222325</td>\n",
       "      <td>0.552850</td>\n",
       "      <td>18.548675</td>\n",
       "      <td>4.249798</td>\n",
       "      <td>50.296170</td>\n",
       "      <td>32.238290</td>\n",
       "      <td>26.397638</td>\n",
       "      <td>40593</td>\n",
       "      <td>12.129932</td>\n",
       "      <td>15.729958</td>\n",
       "      <td>82.262624</td>\n",
       "      <td>41.062000</td>\n",
       "      <td>7643</td>\n",
       "      <td>12180</td>\n",
       "      <td>0</td>\n",
       "    </tr>\n",
       "    <tr>\n",
       "      <td>4</td>\n",
       "      <td>AZ</td>\n",
       "      <td>graham</td>\n",
       "      <td>4009</td>\n",
       "      <td>37529</td>\n",
       "      <td>51.461536</td>\n",
       "      <td>1.811932</td>\n",
       "      <td>32.097844</td>\n",
       "      <td>4.385942</td>\n",
       "      <td>46.313518</td>\n",
       "      <td>46.393456</td>\n",
       "      <td>12.315809</td>\n",
       "      <td>47422</td>\n",
       "      <td>14.424104</td>\n",
       "      <td>14.580797</td>\n",
       "      <td>86.675944</td>\n",
       "      <td>46.437399</td>\n",
       "      <td>3368</td>\n",
       "      <td>6870</td>\n",
       "      <td>0</td>\n",
       "    </tr>\n",
       "  </tbody>\n",
       "</table>\n",
       "</div>"
      ],
      "text/plain": [
       "  State    County  FIPS  Total Population  \\\n",
       "0    AZ    apache  4001             72346   \n",
       "1    AZ   cochise  4003            128177   \n",
       "2    AZ  coconino  4005            138064   \n",
       "3    AZ      gila  4007             53179   \n",
       "4    AZ    graham  4009             37529   \n",
       "\n",
       "   Percent White, not Hispanic or Latino  \\\n",
       "0                              18.571863   \n",
       "1                              56.299492   \n",
       "2                              54.619597   \n",
       "3                              63.222325   \n",
       "4                              51.461536   \n",
       "\n",
       "   Percent Black, not Hispanic or Latino  Percent Hispanic or Latino  \\\n",
       "0                               0.486551                    5.947806   \n",
       "1                               3.714395                   34.403208   \n",
       "2                               1.342855                   13.711033   \n",
       "3                               0.552850                   18.548675   \n",
       "4                               1.811932                   32.097844   \n",
       "\n",
       "   Percent Foreign Born  Percent Female  Percent Age 29 and Under  \\\n",
       "0              1.719515       50.598513                 45.854643   \n",
       "1             11.458374       49.069646                 37.902276   \n",
       "2              4.825298       50.581614                 48.946141   \n",
       "3              4.249798       50.296170                 32.238290   \n",
       "4              4.385942       46.313518                 46.393456   \n",
       "\n",
       "   Percent Age 65 and Older  Median Household Income  Percent Unemployed  \\\n",
       "0                 13.322091                    32460           15.807433   \n",
       "1                 19.756275                    45383            8.567108   \n",
       "2                 10.873943                    51106            8.238305   \n",
       "3                 26.397638                    40593           12.129932   \n",
       "4                 12.315809                    47422           14.424104   \n",
       "\n",
       "   Percent Less than High School Degree  Percent Less than Bachelor's Degree  \\\n",
       "0                             21.758252                            88.941063   \n",
       "1                             13.409171                            76.837055   \n",
       "2                             11.085381                            65.791439   \n",
       "3                             15.729958                            82.262624   \n",
       "4                             14.580797                            86.675944   \n",
       "\n",
       "   Percent Rural  Democratic  Republican  Party  \n",
       "0      74.061076       16298        7810      1  \n",
       "1      36.301067       17383       26929      0  \n",
       "2      31.466066       34240       19249      1  \n",
       "3      41.062000        7643       12180      0  \n",
       "4      46.437399        3368        6870      0  "
      ]
     },
     "execution_count": 2,
     "metadata": {},
     "output_type": "execute_result"
    }
   ],
   "source": [
    "#Read Data in\n",
    "df=pd.read_csv(\"merged_train.csv\")\n",
    "df.head(5)"
   ]
  },
  {
   "cell_type": "markdown",
   "metadata": {},
   "source": [
    "***Task 1***"
   ]
  },
  {
   "cell_type": "code",
   "execution_count": 3,
   "metadata": {},
   "outputs": [],
   "source": [
    "#Task 1: split the dataset into training and test set using the holdout method\n",
    "\n",
    "x_train,x_test,y_train,y_test=train_test_split(df.iloc[:,:-3], df.iloc[:,-3:], random_state=1, test_size=0.23)\n"
   ]
  },
  {
   "cell_type": "code",
   "execution_count": 4,
   "metadata": {},
   "outputs": [
    {
     "name": "stdout",
     "output_type": "stream",
     "text": [
      "<class 'pandas.core.frame.DataFrame'>\n",
      "Int64Index: 920 entries, 191 to 1061\n",
      "Data columns (total 16 columns):\n",
      "State                                    920 non-null object\n",
      "County                                   920 non-null object\n",
      "FIPS                                     920 non-null int64\n",
      "Total Population                         920 non-null int64\n",
      "Percent White, not Hispanic or Latino    920 non-null float64\n",
      "Percent Black, not Hispanic or Latino    920 non-null float64\n",
      "Percent Hispanic or Latino               920 non-null float64\n",
      "Percent Foreign Born                     920 non-null float64\n",
      "Percent Female                           920 non-null float64\n",
      "Percent Age 29 and Under                 920 non-null float64\n",
      "Percent Age 65 and Older                 920 non-null float64\n",
      "Median Household Income                  920 non-null int64\n",
      "Percent Unemployed                       920 non-null float64\n",
      "Percent Less than High School Degree     920 non-null float64\n",
      "Percent Less than Bachelor's Degree      920 non-null float64\n",
      "Percent Rural                            920 non-null float64\n",
      "dtypes: float64(11), int64(3), object(2)\n",
      "memory usage: 122.2+ KB\n"
     ]
    }
   ],
   "source": [
    "x_train.info()"
   ]
  },
  {
   "cell_type": "code",
   "execution_count": 5,
   "metadata": {},
   "outputs": [
    {
     "name": "stdout",
     "output_type": "stream",
     "text": [
      "<class 'pandas.core.frame.DataFrame'>\n",
      "Int64Index: 275 entries, 49 to 180\n",
      "Data columns (total 16 columns):\n",
      "State                                    275 non-null object\n",
      "County                                   275 non-null object\n",
      "FIPS                                     275 non-null int64\n",
      "Total Population                         275 non-null int64\n",
      "Percent White, not Hispanic or Latino    275 non-null float64\n",
      "Percent Black, not Hispanic or Latino    275 non-null float64\n",
      "Percent Hispanic or Latino               275 non-null float64\n",
      "Percent Foreign Born                     275 non-null float64\n",
      "Percent Female                           275 non-null float64\n",
      "Percent Age 29 and Under                 275 non-null float64\n",
      "Percent Age 65 and Older                 275 non-null float64\n",
      "Median Household Income                  275 non-null int64\n",
      "Percent Unemployed                       275 non-null float64\n",
      "Percent Less than High School Degree     275 non-null float64\n",
      "Percent Less than Bachelor's Degree      275 non-null float64\n",
      "Percent Rural                            275 non-null float64\n",
      "dtypes: float64(11), int64(3), object(2)\n",
      "memory usage: 36.5+ KB\n"
     ]
    }
   ],
   "source": [
    "x_test.info()"
   ]
  },
  {
   "cell_type": "markdown",
   "metadata": {},
   "source": [
    "***Task 2***"
   ]
  },
  {
   "cell_type": "code",
   "execution_count": 6,
   "metadata": {},
   "outputs": [],
   "source": [
    "#Task 2: Scaling the x_train and x_test sets\n",
    "scaler=StandardScaler().fit(x_train.iloc[:,3:])\n",
    "x_train_scaled=scaler.transform(x_train.iloc[:,3:])\n",
    "x_test_scaled=scaler.transform(x_test.iloc[:,3:])\n",
    "\n"
   ]
  },
  {
   "cell_type": "markdown",
   "metadata": {},
   "source": [
    "***Task 3: Regression models***"
   ]
  },
  {
   "cell_type": "code",
   "execution_count": 93,
   "metadata": {},
   "outputs": [
    {
     "name": "stdout",
     "output_type": "stream",
     "text": [
      "Coefficients: \t [65180.35305484 -3445.88365077  -829.88729492 -7093.73389513\n",
      "  3103.84879685  -226.64749932 -3658.42000593  -856.54320693\n",
      "   428.57929225   685.6592625   3574.19800722 -9492.84900608\n",
      "   568.81147654]\n",
      "Intercept: \t 26459.871739130427\n",
      "R-squared: \t 0.9066241634739943\n",
      "Adjusted R-squared: \t 0.9019732597389826\n"
     ]
    }
   ],
   "source": [
    "#using linear regression with all variables for democratic votes\n",
    "\n",
    "model=linear_model.LinearRegression().fit(x_train_scaled,y_train['Democratic'])\n",
    "y_pred=model.predict(x_test_scaled)\n",
    "r2=metrics.r2_score(y_test['Democratic'],y_pred)\n",
    "radj=1-(1-r2)*(275-1)/(275-13-1)\n",
    "\n",
    "print (\"Coefficients: \\t\",model.coef_)\n",
    "print (\"Intercept: \\t\",model.intercept_)\n",
    "print (\"R-squared: \\t\",r2)\n",
    "print(\"Adjusted R-squared: \\t\", radj)\n",
    "\n",
    "\n"
   ]
  },
  {
   "cell_type": "code",
   "execution_count": 94,
   "metadata": {},
   "outputs": [
    {
     "name": "stdout",
     "output_type": "stream",
     "text": [
      "Coefficients: \t [39554.93330223  1936.35120859 -2549.42696013   983.35778642\n",
      " -4728.0802429   -628.76439648  -807.93106198  2393.54933962\n",
      "  5332.70154246  2022.6990234   2935.10256247 -2703.77747028\n",
      " -5904.11707453]\n",
      "Intercept: \t 21058.953260869566\n",
      "R-squared: \t 0.8204008463950343\n",
      "Adjusted R-squared: \t 0.8114552946829096\n"
     ]
    }
   ],
   "source": [
    "#using linear regression with all variables for Republican votes\n",
    "\n",
    "model=linear_model.LinearRegression().fit(x_train_scaled,y_train['Republican'])\n",
    "y_pred=model.predict(x_test_scaled)\n",
    "r2=metrics.r2_score(y_test['Republican'],y_pred)\n",
    "radj=1-(1-r2)*(275-1)/(275-13-1)\n",
    "\n",
    "print (\"Coefficients: \\t\", model.coef_)\n",
    "print (\"Intercept: \\t\",model.intercept_)\n",
    "print (\"R-squared: \\t\",r2)\n",
    "print(\"Adjusted R-squared: \\t\", radj)\n"
   ]
  },
  {
   "cell_type": "code",
   "execution_count": 95,
   "metadata": {},
   "outputs": [
    {
     "name": "stdout",
     "output_type": "stream",
     "text": [
      "Coefficients: \t [65179.58429607 -3432.21060658  -820.69664388 -7080.49766461\n",
      "  3104.35235033  -226.200928   -3650.7653268   -850.38104973\n",
      "   428.74654506   685.67904905  3567.34876125 -9487.66345589\n",
      "   567.2483701 ]\n",
      "Intercept: \t 26459.871739130427\n",
      "R-squared: \t 0.9066358324394637\n",
      "Adjusted R-squared: \t 0.9019855099172913\n"
     ]
    }
   ],
   "source": [
    "#using lasso Regression with all variables for Democratic votes\n",
    "\n",
    "model=linear_model.Lasso(alpha=1).fit(x_train_scaled,y_train['Democratic'])\n",
    "y_pred=model.predict(x_test_scaled)\n",
    "r2=metrics.r2_score(y_test['Democratic'],y_pred)\n",
    "radj=1-(1-r2)*(275-1)/(275-13-1)\n",
    "\n",
    "print (\"Coefficients: \\t\", model.coef_)\n",
    "print (\"Intercept: \\t\",model.intercept_)\n",
    "print (\"R-squared: \\t\",r2)\n",
    "print(\"Adjusted R-squared: \\t\", radj)\n",
    "\n",
    "\n"
   ]
  },
  {
   "cell_type": "code",
   "execution_count": 96,
   "metadata": {},
   "outputs": [
    {
     "name": "stdout",
     "output_type": "stream",
     "text": [
      "Coefficients: \t [39551.13609361  1930.04425597 -2549.39478081   976.47849193\n",
      " -4719.38496994  -626.34790664  -808.32303017  2389.73750211\n",
      "  5328.74147455  2020.21972591  2927.89556845 -2698.59094515\n",
      " -5901.28777988]\n",
      "Intercept: \t 21058.953260869566\n",
      "R-squared: \t 0.82037207773618\n",
      "Adjusted R-squared: \t 0.8114250931023499\n"
     ]
    }
   ],
   "source": [
    "#using Lasso Regression with all variables for Republican votes\n",
    "\n",
    "model=linear_model.Lasso(alpha=1).fit(x_train_scaled,y_train['Republican'])\n",
    "y_pred=model.predict(x_test_scaled)\n",
    "r2=metrics.r2_score(y_test['Republican'],y_pred)\n",
    "radj=1-(1-r2)*(275-1)/(275-13-1)\n",
    "\n",
    "print (\"Coefficients: \\t\", model.coef_)\n",
    "print (\"Intercept: \\t\",model.intercept_)\n",
    "print (\"R-squared: \\t\",r2)\n",
    "print(\"Adjusted R-squared: \\t\", radj)\n"
   ]
  },
  {
   "cell_type": "markdown",
   "metadata": {},
   "source": [
    "From above, Lasso regression does not seem to be setting any coefficients to 0 which might indicate that all variables are useful in predicting the result. Both linear regression and lasso regression have similar R-squared and adjusted R-squared values. However, We can still experiment with different combinations of variables to see if any is similar or better than using all variables."
   ]
  },
  {
   "cell_type": "code",
   "execution_count": 97,
   "metadata": {},
   "outputs": [
    {
     "name": "stdout",
     "output_type": "stream",
     "text": [
      "Coefficients: \t [ 66468.36469058  -2835.10254871   -340.50358531  -5893.09326654\n",
      "   3962.74735093 -10090.03936004   1280.20928827]\n",
      "Intercept: \t 26459.871739130427\n",
      "R-squared: \t 0.9077410782516582\n",
      "Adjusted R-squared: \t 0.9053223050223009\n"
     ]
    }
   ],
   "source": [
    "#using Lasso regression with Total population,ethnic,education and %rural/urban features for democratic votes\n",
    "\n",
    "model=linear_model.Lasso(alpha=1).fit(x_train_scaled[:,[0,1,2,3,10,11,12]],y_train['Democratic'])\n",
    "y_pred=model.predict(x_test_scaled[:,[0,1,2,3,10,11,12]])\n",
    "r2=metrics.r2_score(y_test['Democratic'],y_pred)\n",
    "radj=1-(1-r2)*(275-1)/(275-7-1)\n",
    "\n",
    "print (\"Coefficients: \\t\", model.coef_)\n",
    "print (\"Intercept: \\t\",model.intercept_)\n",
    "print (\"R-squared: \\t\",r2)\n",
    "print(\"Adjusted R-squared: \\t\", radj)"
   ]
  },
  {
   "cell_type": "code",
   "execution_count": 98,
   "metadata": {},
   "outputs": [
    {
     "name": "stdout",
     "output_type": "stream",
     "text": [
      "Coefficients: \t [38416.73437929  3367.89386346 -1646.38789433   268.19841996\n",
      "   180.58887006 -2912.17794442 -4488.39026087]\n",
      "Intercept: \t 21058.953260869566\n",
      "R-squared: \t 0.8040982146474943\n",
      "Adjusted R-squared: \t 0.79896221278432\n"
     ]
    }
   ],
   "source": [
    "#using Lasso regression with Total population,ethnic,education and %rural/urban fatures for Republican votes\n",
    "\n",
    "model=linear_model.Lasso(alpha=1).fit(x_train_scaled[:,[0,1,2,3,10,11,12]],y_train['Republican'])\n",
    "y_pred=model.predict(x_test_scaled[:,[0,1,2,3,10,11,12]])\n",
    "r2=metrics.r2_score(y_test['Republican'],y_pred)\n",
    "radj=1-(1-r2)*(275-1)/(275-7-1)\n",
    "\n",
    "print (\"Coefficients: \\t\", model.coef_)\n",
    "print (\"Intercept: \\t\",model.intercept_)\n",
    "print (\"R-squared: \\t\",r2)\n",
    "print(\"Adjusted R-squared: \\t\", radj)"
   ]
  },
  {
   "cell_type": "code",
   "execution_count": 99,
   "metadata": {},
   "outputs": [
    {
     "name": "stdout",
     "output_type": "stream",
     "text": [
      "Coefficients: \t [ 6.78800747e+04 -5.39046680e+03 -7.68959219e+00 -6.14312062e+03\n",
      " -3.92120632e+02  1.94163995e+03  5.19953941e+03]\n",
      "Intercept: \t 26459.871739130434\n",
      "R-squared: \t 0.9022677349940688\n",
      "Adjusted R-squared: \t 0.8997054658740631\n"
     ]
    }
   ],
   "source": [
    "#using Lasso regression with Total population,ethnic and age data for democratic votes\n",
    "\n",
    "model=linear_model.Lasso(alpha=1).fit(x_train_scaled[:,[0,1,2,3,6,7,8]],y_train['Democratic'])\n",
    "y_pred=model.predict(x_test_scaled[:,[0,1,2,3,6,7,8]])\n",
    "r2=metrics.r2_score(y_test['Democratic'],y_pred)\n",
    "radj=1-(1-r2)*(275-1)/(275-7-1)\n",
    "\n",
    "print (\"Coefficients: \\t\", model.coef_)\n",
    "print (\"Intercept: \\t\",model.intercept_)\n",
    "print (\"R-squared: \\t\",r2)\n",
    "print(\"Adjusted R-squared: \\t\", radj)"
   ]
  },
  {
   "cell_type": "code",
   "execution_count": 100,
   "metadata": {},
   "outputs": [
    {
     "name": "stdout",
     "output_type": "stream",
     "text": [
      "Coefficients: \t [39992.45174544  2189.17010832  -938.00766816   337.82540405\n",
      "   995.03343305  1506.47451008  5006.53370505]\n",
      "Intercept: \t 21058.953260869566\n",
      "R-squared: \t 0.8027955282636687\n",
      "Adjusted R-squared: \t 0.7976253735739521\n"
     ]
    }
   ],
   "source": [
    "#using Lasso regression with Total population,ethnic and age data for Republican votes\n",
    "\n",
    "model=linear_model.Lasso(alpha=1).fit(x_train_scaled[:,[0,1,2,3,6,7,8]],y_train['Republican'])\n",
    "y_pred=model.predict(x_test_scaled[:,[0,1,2,3,6,7,8]])\n",
    "r2=metrics.r2_score(y_test['Republican'],y_pred)\n",
    "radj=1-(1-r2)*(275-1)/(275-7-1)\n",
    "\n",
    "print (\"Coefficients: \\t\", model.coef_)\n",
    "print (\"Intercept: \\t\",model.intercept_)\n",
    "print (\"R-squared: \\t\",r2)\n",
    "print(\"Adjusted R-squared: \\t\", radj)"
   ]
  },
  {
   "cell_type": "code",
   "execution_count": 101,
   "metadata": {},
   "outputs": [
    {
     "name": "stdout",
     "output_type": "stream",
     "text": [
      "Coefficients: \t [ 6.60304196e+04 -4.49357971e+03 -1.20217111e+03 -6.56464100e+03\n",
      " -4.24321391e+03 -1.11765974e+03  6.21279244e+02  4.79205671e+03\n",
      " -1.02998143e+04  1.93350324e+01]\n",
      "Intercept: \t 26459.871739130427\n",
      "R-squared: \t 0.9088724499515641\n",
      "Adjusted R-squared: \t 0.9054206488133658\n"
     ]
    }
   ],
   "source": [
    "#All features except %female, %foreign born and %unemployed\n",
    "#using Lasso for democratic votes\n",
    "\n",
    "model=linear_model.Lasso(alpha=1).fit(x_train_scaled[:,[0,1,2,3,6,7,8,10,11,12]],y_train['Democratic'])\n",
    "y_pred=model.predict(x_test_scaled[:,[0,1,2,3,6,7,8,10,11,12]])\n",
    "r2=metrics.r2_score(y_test['Democratic'],y_pred)\n",
    "radj=1-(1-r2)*(275-1)/(275-10-1)\n",
    "\n",
    "print (\"Coefficients: \\t\", model.coef_)\n",
    "print (\"Intercept: \\t\",model.intercept_)\n",
    "print (\"R-squared: \\t\",r2)\n",
    "print(\"Adjusted R-squared: \\t\", radj)"
   ]
  },
  {
   "cell_type": "code",
   "execution_count": 102,
   "metadata": {},
   "outputs": [
    {
     "name": "stdout",
     "output_type": "stream",
     "text": [
      "Coefficients: \t [38289.87057722  1918.94147029 -2170.81703375 -1241.08657453\n",
      "  -851.65073067  2001.10788055  3943.25424507  1761.99202865\n",
      " -1144.30127907 -5694.18878151]\n",
      "Intercept: \t 21058.953260869566\n",
      "R-squared: \t 0.8025381328054344\n",
      "Adjusted R-squared: \t 0.7950585166238221\n"
     ]
    }
   ],
   "source": [
    "#All features except %female, %foreign born and %unemployed\n",
    "#using Lasso for democratic votes\n",
    "\n",
    "model=linear_model.Lasso(alpha=1).fit(x_train_scaled[:,[0,1,2,3,6,7,8,10,11,12]],y_train['Republican'])\n",
    "y_pred=model.predict(x_test_scaled[:,[0,1,2,3,6,7,8,10,11,12]])\n",
    "r2=metrics.r2_score(y_test['Republican'],y_pred)\n",
    "radj=1-(1-r2)*(275-1)/(275-10-1)\n",
    "\n",
    "print (\"Coefficients: \\t\", model.coef_)\n",
    "print (\"Intercept: \\t\",model.intercept_)\n",
    "print (\"R-squared: \\t\",r2)\n",
    "print(\"Adjusted R-squared: \\t\", radj)"
   ]
  },
  {
   "cell_type": "markdown",
   "metadata": {},
   "source": [
    "From our results, we can see that using all variables is consistently better than using various subsets, especially for predicting republican votes. i.e all variables are playing an important role in the final vote tally. When using all variables, Lasso and Linear Regression have similar scores, however, it would still be advisable to go with Lasso Regression to lower the coefficients and ensure it generalizes better."
   ]
  },
  {
   "cell_type": "markdown",
   "metadata": {},
   "source": [
    "***Task 4: Classification models***"
   ]
  },
  {
   "cell_type": "code",
   "execution_count": 8,
   "metadata": {},
   "outputs": [
    {
     "name": "stdout",
     "output_type": "stream",
     "text": [
      "Model: K-Nearest Neighbors\n",
      "Number of neighbors:  3  ------------\n",
      "Accuracy: \t 0.782\n",
      "Precision: \t [0.81278539 0.66071429]\n",
      "Recall: \t [0.9035533  0.47435897]\n",
      "F1 Score: \t [0.85576923 0.55223881]\n",
      "Number of neighbors:  4  ------------\n",
      "Accuracy: \t 0.796\n",
      "Precision: \t [0.80257511 0.76190476]\n",
      "Recall: \t [0.94923858 0.41025641]\n",
      "F1 Score: \t [0.86976744 0.53333333]\n",
      "Number of neighbors:  5  ------------\n",
      "Accuracy: \t 0.785\n",
      "Precision: \t [0.81944444 0.66101695]\n",
      "Recall: \t [0.89847716 0.5       ]\n",
      "F1 Score: \t [0.85714286 0.56934307]\n",
      "\n",
      "Best K-NN model: nn = 4\n"
     ]
    }
   ],
   "source": [
    "# Classification model #1: K-NN\n",
    "print(\"Model: K-Nearest Neighbors\")\n",
    "num_neighbors = [3,4,5]\n",
    "\n",
    "# create models for each number of nearest neighbors\n",
    "for n in num_neighbors:\n",
    "    classifier = KNeighborsClassifier(n_neighbors=n)  \n",
    "    classifier.fit(x_train_scaled, y_train['Party'])\n",
    "\n",
    "    y_pred = classifier.predict(x_test_scaled)\n",
    "\n",
    "    accuracy = metrics.accuracy_score(y_test['Party'], y_pred)\n",
    "    error = 1 - accuracy\n",
    "    precision = metrics.precision_score(y_test['Party'], y_pred, average = None)\n",
    "    recall = metrics.recall_score(y_test['Party'], y_pred, average = None)\n",
    "    F1_score = (2 * recall * precision) / (recall + precision)\n",
    "    print(\"Number of neighbors: \", n, \" ------------\")\n",
    "    print('Accuracy: \\t', round(accuracy,3))\n",
    "    print('Precision: \\t', precision)\n",
    "    print('Recall: \\t', recall)\n",
    "    print('F1 Score: \\t', F1_score)\n",
    "\n",
    "print('\\nBest K-NN model: nn = 4')"
   ]
  },
  {
   "cell_type": "code",
   "execution_count": 34,
   "metadata": {},
   "outputs": [
    {
     "name": "stdout",
     "output_type": "stream",
     "text": [
      "Model: Naive Bayes\n",
      "Accuracy: \t 0.753\n",
      "Precision: \t [0.79723502 0.5862069 ]\n",
      "Recall: \t [0.87817259 0.43589744]\n",
      "F1 Score: \t [0.83574879 0.5       ]\n"
     ]
    }
   ],
   "source": [
    "# Classification model #2: Naive Bayes\n",
    "print(\"Model: Naive Bayes\")\n",
    "\n",
    "classifier = GaussianNB()  \n",
    "classifier.fit(x_train_scaled, y_train['Party'])\n",
    "\n",
    "y_pred = classifier.predict(x_test_scaled)\n",
    "\n",
    "accuracy = metrics.accuracy_score(y_test['Party'], y_pred)\n",
    "error = 1 - accuracy\n",
    "precision = metrics.precision_score(y_test['Party'], y_pred, average = None)\n",
    "recall = metrics.recall_score(y_test['Party'], y_pred, average = None)\n",
    "F1_score = (2 * recall * precision) / (recall + precision)\n",
    "print('Accuracy: \\t', round(accuracy,3))\n",
    "print('Precision: \\t', precision)\n",
    "print('Recall: \\t', recall)\n",
    "print('F1 Score: \\t', F1_score)"
   ]
  },
  {
   "cell_type": "code",
   "execution_count": 37,
   "metadata": {},
   "outputs": [
    {
     "name": "stdout",
     "output_type": "stream",
     "text": [
      "Model: Support Vector Machines\n",
      "Kernel:  linear\n",
      "Accuracy: \t 0.789\n",
      "Precision: \t [0.79079498 0.77777778]\n",
      "Recall: \t [0.95939086 0.35897436]\n",
      "F1 Score: \t [0.86697248 0.49122807]\n",
      "Kernel:  poly\n",
      "Accuracy: \t 0.778\n",
      "Precision: \t [0.77868852 0.77419355]\n",
      "Recall: \t [0.96446701 0.30769231]\n",
      "F1 Score: \t [0.861678   0.44036697]\n",
      "Kernel:  rbf\n",
      "Accuracy: \t 0.815\n",
      "Precision: \t [0.8173913 0.8      ]\n",
      "Recall: \t [0.95431472 0.46153846]\n",
      "F1 Score: \t [0.88056206 0.58536585]\n",
      "Kernel:  sigmoid\n",
      "Accuracy: \t 0.662\n",
      "Precision: \t [0.73853211 0.36842105]\n",
      "Recall: \t [0.81725888 0.26923077]\n",
      "F1 Score: \t [0.77590361 0.31111111]\n",
      "\n",
      "Best SVM model: rbf\n"
     ]
    }
   ],
   "source": [
    "# Classification model #3: SVM\n",
    "print(\"Model: Support Vector Machines\")\n",
    "kernels = ['linear', 'poly', 'rbf', 'sigmoid']\n",
    "\n",
    "for k in kernels:\n",
    "    print(\"Kernel: \", k)\n",
    "    classifier = SVC(kernel=k)  \n",
    "    classifier.fit(x_train_scaled, y_train['Party'])\n",
    "\n",
    "    y_pred = classifier.predict(x_test_scaled)\n",
    "\n",
    "    accuracy = metrics.accuracy_score(y_test['Party'], y_pred)\n",
    "    error = 1 - accuracy\n",
    "    precision = metrics.precision_score(y_test['Party'], y_pred, average = None)\n",
    "    recall = metrics.recall_score(y_test['Party'], y_pred, average = None)\n",
    "    F1_score = (2 * recall * precision) / (recall + precision)\n",
    "    print('Accuracy: \\t', round(accuracy,3))\n",
    "    print('Precision: \\t', precision)\n",
    "    print('Recall: \\t', recall)\n",
    "    print('F1 Score: \\t', F1_score)\n",
    "    \n",
    "print('\\nBest SVM model: rbf')"
   ]
  },
  {
   "cell_type": "code",
   "execution_count": null,
   "metadata": {},
   "outputs": [],
   "source": [
    "# Metrics without feature selection:\n",
    "                Accuracy    Precision        Recall         F1 Score\n",
    "KNN - 3         0.782       [0.813 0.661]   [0.904 0.474]   [0.856 0.552]\n",
    "KNN - 4         0.796       [0.803 0.762]   [0.949 0.410]   [0.870 0.533]\n",
    "KNN - 5         0.785       [0.797 0.586]   [0.878 0.436]   [0.836 0.5  ]\n",
    "NB              0.753       [0.797 0.586]   [0.878 0.436]   [0.836 0.5  ]\n",
    "SVM - linear    0.789       [0.791 0.778]   [0.959 0.359]   [0.867 0.491]\n",
    "SVM - poly      0.778       [0.779 0.774]   [0.964 0.308]   [0.862 0.440]\n",
    "SVM - rbf       0.815       [0.817 0.8  ]   [0.954 0.462]   [0.881 0.585]\n",
    "SVM - sigmoid   0.662       [0.739 0.368]   [0.817 0.269]   [0.776 0.311]"
   ]
  },
  {
   "cell_type": "markdown",
   "metadata": {},
   "source": [
    "**Task 4 Analysis:**\n",
    "*Best model:* SVM using 'rbf' as the kernel. It gave us the highest accuracy, precision, and f1-score. To select the parameters of the models, we chose 3 different numbers of nearest neighbors for the K-NN model and all the possible kernels (except for 'precomputed') for the SVM model. In terms of features, we used all 16 feautures (!!!)"
   ]
  },
  {
   "cell_type": "markdown",
   "metadata": {},
   "source": [
    "***Task 5: Clustering models***"
   ]
  },
  {
   "cell_type": "code",
   "execution_count": null,
   "metadata": {},
   "outputs": [],
   "source": [
    "# Task 5"
   ]
  },
  {
   "cell_type": "markdown",
   "metadata": {},
   "source": [
    "***Task 6: Map***"
   ]
  },
  {
   "cell_type": "code",
   "execution_count": null,
   "metadata": {},
   "outputs": [],
   "source": [
    "#Task 6"
   ]
  },
  {
   "cell_type": "markdown",
   "metadata": {},
   "source": [
    "***Task 7: Prediction***"
   ]
  },
  {
   "cell_type": "code",
   "execution_count": null,
   "metadata": {},
   "outputs": [],
   "source": [
    "# Task 7"
   ]
  }
 ],
 "metadata": {
  "kernelspec": {
   "display_name": "Python 3",
   "language": "python",
   "name": "python3"
  },
  "language_info": {
   "codemirror_mode": {
    "name": "ipython",
    "version": 3
   },
   "file_extension": ".py",
   "mimetype": "text/x-python",
   "name": "python",
   "nbconvert_exporter": "python",
   "pygments_lexer": "ipython3",
   "version": "3.7.4"
  }
 },
 "nbformat": 4,
 "nbformat_minor": 4
}
