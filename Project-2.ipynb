{
 "cells": [
  {
   "cell_type": "code",
   "execution_count": 19,
   "metadata": {},
   "outputs": [],
   "source": [
    "from sklearn.model_selection import train_test_split\n",
    "from sklearn.preprocessing import StandardScaler\n",
    "import pandas as pd\n",
    "import matplotlib.pyplot as plt\n",
    "import seaborn as sns\n",
    "from sklearn.compose import ColumnTransformer\n",
    "\n",
    "from sklearn.neighbors import KNeighborsClassifier \n",
    "from sklearn.naive_bayes import GaussianNB\n",
    "from sklearn.svm import SVC\n",
    "from sklearn import metrics\n"
   ]
  },
  {
   "cell_type": "code",
   "execution_count": 2,
   "metadata": {},
   "outputs": [
    {
     "output_type": "execute_result",
     "data": {
      "text/plain": [
       "  State    County  FIPS  Total Population  \\\n",
       "0    AZ    apache  4001             72346   \n",
       "1    AZ   cochise  4003            128177   \n",
       "2    AZ  coconino  4005            138064   \n",
       "3    AZ      gila  4007             53179   \n",
       "4    AZ    graham  4009             37529   \n",
       "\n",
       "   Percent White, not Hispanic or Latino  \\\n",
       "0                              18.571863   \n",
       "1                              56.299492   \n",
       "2                              54.619597   \n",
       "3                              63.222325   \n",
       "4                              51.461536   \n",
       "\n",
       "   Percent Black, not Hispanic or Latino  Percent Hispanic or Latino  \\\n",
       "0                               0.486551                    5.947806   \n",
       "1                               3.714395                   34.403208   \n",
       "2                               1.342855                   13.711033   \n",
       "3                               0.552850                   18.548675   \n",
       "4                               1.811932                   32.097844   \n",
       "\n",
       "   Percent Foreign Born  Percent Female  Percent Age 29 and Under  \\\n",
       "0              1.719515       50.598513                 45.854643   \n",
       "1             11.458374       49.069646                 37.902276   \n",
       "2              4.825298       50.581614                 48.946141   \n",
       "3              4.249798       50.296170                 32.238290   \n",
       "4              4.385942       46.313518                 46.393456   \n",
       "\n",
       "   Percent Age 65 and Older  Median Household Income  Percent Unemployed  \\\n",
       "0                 13.322091                    32460           15.807433   \n",
       "1                 19.756275                    45383            8.567108   \n",
       "2                 10.873943                    51106            8.238305   \n",
       "3                 26.397638                    40593           12.129932   \n",
       "4                 12.315809                    47422           14.424104   \n",
       "\n",
       "   Percent Less than High School Degree  Percent Less than Bachelor's Degree  \\\n",
       "0                             21.758252                            88.941063   \n",
       "1                             13.409171                            76.837055   \n",
       "2                             11.085381                            65.791439   \n",
       "3                             15.729958                            82.262624   \n",
       "4                             14.580797                            86.675944   \n",
       "\n",
       "   Percent Rural  Democratic  Republican  Party  \n",
       "0      74.061076       16298        7810      1  \n",
       "1      36.301067       17383       26929      0  \n",
       "2      31.466066       34240       19249      1  \n",
       "3      41.062000        7643       12180      0  \n",
       "4      46.437399        3368        6870      0  "
      ],
      "text/html": "<div>\n<style scoped>\n    .dataframe tbody tr th:only-of-type {\n        vertical-align: middle;\n    }\n\n    .dataframe tbody tr th {\n        vertical-align: top;\n    }\n\n    .dataframe thead th {\n        text-align: right;\n    }\n</style>\n<table border=\"1\" class=\"dataframe\">\n  <thead>\n    <tr style=\"text-align: right;\">\n      <th></th>\n      <th>State</th>\n      <th>County</th>\n      <th>FIPS</th>\n      <th>Total Population</th>\n      <th>Percent White, not Hispanic or Latino</th>\n      <th>Percent Black, not Hispanic or Latino</th>\n      <th>Percent Hispanic or Latino</th>\n      <th>Percent Foreign Born</th>\n      <th>Percent Female</th>\n      <th>Percent Age 29 and Under</th>\n      <th>Percent Age 65 and Older</th>\n      <th>Median Household Income</th>\n      <th>Percent Unemployed</th>\n      <th>Percent Less than High School Degree</th>\n      <th>Percent Less than Bachelor's Degree</th>\n      <th>Percent Rural</th>\n      <th>Democratic</th>\n      <th>Republican</th>\n      <th>Party</th>\n    </tr>\n  </thead>\n  <tbody>\n    <tr>\n      <th>0</th>\n      <td>AZ</td>\n      <td>apache</td>\n      <td>4001</td>\n      <td>72346</td>\n      <td>18.571863</td>\n      <td>0.486551</td>\n      <td>5.947806</td>\n      <td>1.719515</td>\n      <td>50.598513</td>\n      <td>45.854643</td>\n      <td>13.322091</td>\n      <td>32460</td>\n      <td>15.807433</td>\n      <td>21.758252</td>\n      <td>88.941063</td>\n      <td>74.061076</td>\n      <td>16298</td>\n      <td>7810</td>\n      <td>1</td>\n    </tr>\n    <tr>\n      <th>1</th>\n      <td>AZ</td>\n      <td>cochise</td>\n      <td>4003</td>\n      <td>128177</td>\n      <td>56.299492</td>\n      <td>3.714395</td>\n      <td>34.403208</td>\n      <td>11.458374</td>\n      <td>49.069646</td>\n      <td>37.902276</td>\n      <td>19.756275</td>\n      <td>45383</td>\n      <td>8.567108</td>\n      <td>13.409171</td>\n      <td>76.837055</td>\n      <td>36.301067</td>\n      <td>17383</td>\n      <td>26929</td>\n      <td>0</td>\n    </tr>\n    <tr>\n      <th>2</th>\n      <td>AZ</td>\n      <td>coconino</td>\n      <td>4005</td>\n      <td>138064</td>\n      <td>54.619597</td>\n      <td>1.342855</td>\n      <td>13.711033</td>\n      <td>4.825298</td>\n      <td>50.581614</td>\n      <td>48.946141</td>\n      <td>10.873943</td>\n      <td>51106</td>\n      <td>8.238305</td>\n      <td>11.085381</td>\n      <td>65.791439</td>\n      <td>31.466066</td>\n      <td>34240</td>\n      <td>19249</td>\n      <td>1</td>\n    </tr>\n    <tr>\n      <th>3</th>\n      <td>AZ</td>\n      <td>gila</td>\n      <td>4007</td>\n      <td>53179</td>\n      <td>63.222325</td>\n      <td>0.552850</td>\n      <td>18.548675</td>\n      <td>4.249798</td>\n      <td>50.296170</td>\n      <td>32.238290</td>\n      <td>26.397638</td>\n      <td>40593</td>\n      <td>12.129932</td>\n      <td>15.729958</td>\n      <td>82.262624</td>\n      <td>41.062000</td>\n      <td>7643</td>\n      <td>12180</td>\n      <td>0</td>\n    </tr>\n    <tr>\n      <th>4</th>\n      <td>AZ</td>\n      <td>graham</td>\n      <td>4009</td>\n      <td>37529</td>\n      <td>51.461536</td>\n      <td>1.811932</td>\n      <td>32.097844</td>\n      <td>4.385942</td>\n      <td>46.313518</td>\n      <td>46.393456</td>\n      <td>12.315809</td>\n      <td>47422</td>\n      <td>14.424104</td>\n      <td>14.580797</td>\n      <td>86.675944</td>\n      <td>46.437399</td>\n      <td>3368</td>\n      <td>6870</td>\n      <td>0</td>\n    </tr>\n  </tbody>\n</table>\n</div>"
     },
     "metadata": {},
     "execution_count": 2
    }
   ],
   "source": [
    "#Read Data in\n",
    "df=pd.read_csv(\"merged_train.csv\")\n",
    "df.head(5)"
   ]
  },
  {
   "source": [
    "***Task 1***"
   ],
   "cell_type": "markdown",
   "metadata": {}
  },
  {
   "cell_type": "code",
   "execution_count": 3,
   "metadata": {},
   "outputs": [],
   "source": [
    "#Task 1: split the dataset into training and test set using the holdout method\n",
    "\n",
    "x_train,x_test,y_train,y_test=train_test_split(df.iloc[:,:-3], df.iloc[:,-3:], random_state=1, test_size=0.23)\n"
   ]
  },
  {
   "cell_type": "code",
   "execution_count": 4,
   "metadata": {},
   "outputs": [
    {
     "output_type": "stream",
     "name": "stdout",
     "text": [
      "<class 'pandas.core.frame.DataFrame'>\nInt64Index: 920 entries, 191 to 1061\nData columns (total 16 columns):\n #   Column                                 Non-Null Count  Dtype  \n---  ------                                 --------------  -----  \n 0   State                                  920 non-null    object \n 1   County                                 920 non-null    object \n 2   FIPS                                   920 non-null    int64  \n 3   Total Population                       920 non-null    int64  \n 4   Percent White, not Hispanic or Latino  920 non-null    float64\n 5   Percent Black, not Hispanic or Latino  920 non-null    float64\n 6   Percent Hispanic or Latino             920 non-null    float64\n 7   Percent Foreign Born                   920 non-null    float64\n 8   Percent Female                         920 non-null    float64\n 9   Percent Age 29 and Under               920 non-null    float64\n 10  Percent Age 65 and Older               920 non-null    float64\n 11  Median Household Income                920 non-null    int64  \n 12  Percent Unemployed                     920 non-null    float64\n 13  Percent Less than High School Degree   920 non-null    float64\n 14  Percent Less than Bachelor's Degree    920 non-null    float64\n 15  Percent Rural                          920 non-null    float64\ndtypes: float64(11), int64(3), object(2)\nmemory usage: 122.2+ KB\n"
     ]
    }
   ],
   "source": [
    "x_train.info()"
   ]
  },
  {
   "cell_type": "code",
   "execution_count": 5,
   "metadata": {},
   "outputs": [
    {
     "output_type": "stream",
     "name": "stdout",
     "text": [
      "<class 'pandas.core.frame.DataFrame'>\nInt64Index: 275 entries, 49 to 180\nData columns (total 16 columns):\n #   Column                                 Non-Null Count  Dtype  \n---  ------                                 --------------  -----  \n 0   State                                  275 non-null    object \n 1   County                                 275 non-null    object \n 2   FIPS                                   275 non-null    int64  \n 3   Total Population                       275 non-null    int64  \n 4   Percent White, not Hispanic or Latino  275 non-null    float64\n 5   Percent Black, not Hispanic or Latino  275 non-null    float64\n 6   Percent Hispanic or Latino             275 non-null    float64\n 7   Percent Foreign Born                   275 non-null    float64\n 8   Percent Female                         275 non-null    float64\n 9   Percent Age 29 and Under               275 non-null    float64\n 10  Percent Age 65 and Older               275 non-null    float64\n 11  Median Household Income                275 non-null    int64  \n 12  Percent Unemployed                     275 non-null    float64\n 13  Percent Less than High School Degree   275 non-null    float64\n 14  Percent Less than Bachelor's Degree    275 non-null    float64\n 15  Percent Rural                          275 non-null    float64\ndtypes: float64(11), int64(3), object(2)\nmemory usage: 36.5+ KB\n"
     ]
    }
   ],
   "source": [
    "x_test.info()"
   ]
  },
  {
   "source": [
    "***Task 2***"
   ],
   "cell_type": "markdown",
   "metadata": {}
  },
  {
   "cell_type": "code",
   "execution_count": 6,
   "metadata": {},
   "outputs": [],
   "source": [
    "#Task 2: Scaling the x_train and x_test sets\n",
    "scaler=StandardScaler().fit(x_train.iloc[:,3:])\n",
    "x_train_scaled=scaler.transform(x_train.iloc[:,3:])\n",
    "x_test_scaled=scaler.transform(x_test.iloc[:,3:])\n",
    "\n"
   ]
  },
  {
   "source": [
    "***Task 4: Classification models***"
   ],
   "cell_type": "markdown",
   "metadata": {}
  },
  {
   "cell_type": "code",
   "execution_count": 33,
   "metadata": {},
   "outputs": [
    {
     "output_type": "stream",
     "name": "stdout",
     "text": [
      "Model: K-Nearest Neighbors\nNumber of neighbors:  1  ------------\nAccuracy: \t 0.76\nPrecision: \t [0.82587065 0.58108108]\nRecall: \t [0.84263959 0.55128205]\nF1 Score: \t [0.83417085 0.56578947]\nNumber of neighbors:  3  ------------\nAccuracy: \t 0.782\nPrecision: \t [0.81278539 0.66071429]\nRecall: \t [0.9035533  0.47435897]\nF1 Score: \t [0.85576923 0.55223881]\nNumber of neighbors:  5  ------------\nAccuracy: \t 0.785\nPrecision: \t [0.81944444 0.66101695]\nRecall: \t [0.89847716 0.5       ]\nF1 Score: \t [0.85714286 0.56934307]\n\nBest K-NN model: nn = 5\n"
     ]
    }
   ],
   "source": [
    "# Classification model #1: K-NN\n",
    "print(\"Model: K-Nearest Neighbors\")\n",
    "num_neighbors = [1,3,5]\n",
    "\n",
    "# create models for each number of nearest neighbors\n",
    "for n in num_neighbors:\n",
    "    classifier = KNeighborsClassifier(n_neighbors=n)  \n",
    "    classifier.fit(x_train_scaled, y_train['Party'])\n",
    "\n",
    "    y_pred = classifier.predict(x_test_scaled)\n",
    "\n",
    "    accuracy = metrics.accuracy_score(y_test['Party'], y_pred)\n",
    "    error = 1 - accuracy\n",
    "    precision = metrics.precision_score(y_test['Party'], y_pred, average = None)\n",
    "    recall = metrics.recall_score(y_test['Party'], y_pred, average = None)\n",
    "    F1_score = (2 * recall * precision) / (recall + precision)\n",
    "    print(\"Number of neighbors: \", n, \" ------------\")\n",
    "    print('Accuracy: \\t', round(accuracy,3))\n",
    "    print('Precision: \\t', precision)\n",
    "    print('Recall: \\t', recall)\n",
    "    print('F1 Score: \\t', F1_score)\n",
    "\n",
    "print('\\nBest K-NN model: nn = 5')"
   ]
  },
  {
   "cell_type": "code",
   "execution_count": 34,
   "metadata": {},
   "outputs": [
    {
     "output_type": "stream",
     "name": "stdout",
     "text": [
      "Model: Naive Bayes\nAccuracy: \t 0.753\nPrecision: \t [0.79723502 0.5862069 ]\nRecall: \t [0.87817259 0.43589744]\nF1 Score: \t [0.83574879 0.5       ]\n"
     ]
    }
   ],
   "source": [
    "# Classification model #2: Naive Bayes\n",
    "print(\"Model: Naive Bayes\")\n",
    "\n",
    "classifier = GaussianNB()  \n",
    "classifier.fit(x_train_scaled, y_train['Party'])\n",
    "\n",
    "y_pred = classifier.predict(x_test_scaled)\n",
    "\n",
    "accuracy = metrics.accuracy_score(y_test['Party'], y_pred)\n",
    "error = 1 - accuracy\n",
    "precision = metrics.precision_score(y_test['Party'], y_pred, average = None)\n",
    "recall = metrics.recall_score(y_test['Party'], y_pred, average = None)\n",
    "F1_score = (2 * recall * precision) / (recall + precision)\n",
    "print('Accuracy: \\t', round(accuracy,3))\n",
    "print('Precision: \\t', precision)\n",
    "print('Recall: \\t', recall)\n",
    "print('F1 Score: \\t', F1_score)"
   ]
  },
  {
   "cell_type": "code",
   "execution_count": 37,
   "metadata": {},
   "outputs": [
    {
     "output_type": "stream",
     "name": "stdout",
     "text": [
      "Model: Support Vector Machines\nKernel:  linear\nAccuracy: \t 0.789\nPrecision: \t [0.79079498 0.77777778]\nRecall: \t [0.95939086 0.35897436]\nF1 Score: \t [0.86697248 0.49122807]\nKernel:  poly\nAccuracy: \t 0.778\nPrecision: \t [0.77868852 0.77419355]\nRecall: \t [0.96446701 0.30769231]\nF1 Score: \t [0.861678   0.44036697]\nKernel:  rbf\nAccuracy: \t 0.815\nPrecision: \t [0.8173913 0.8      ]\nRecall: \t [0.95431472 0.46153846]\nF1 Score: \t [0.88056206 0.58536585]\nKernel:  sigmoid\nAccuracy: \t 0.662\nPrecision: \t [0.73853211 0.36842105]\nRecall: \t [0.81725888 0.26923077]\nF1 Score: \t [0.77590361 0.31111111]\n\nBest SVM model: rbf\n"
     ]
    }
   ],
   "source": [
    "# Classification model #3: SVM\n",
    "print(\"Model: Support Vector Machines\")\n",
    "kernels = ['linear', 'poly', 'rbf', 'sigmoid']\n",
    "\n",
    "for k in kernels:\n",
    "    print(\"Kernel: \", k)\n",
    "    classifier = SVC(kernel=k)  \n",
    "    classifier.fit(x_train_scaled, y_train['Party'])\n",
    "\n",
    "    y_pred = classifier.predict(x_test_scaled)\n",
    "\n",
    "    accuracy = metrics.accuracy_score(y_test['Party'], y_pred)\n",
    "    error = 1 - accuracy\n",
    "    precision = metrics.precision_score(y_test['Party'], y_pred, average = None)\n",
    "    recall = metrics.recall_score(y_test['Party'], y_pred, average = None)\n",
    "    F1_score = (2 * recall * precision) / (recall + precision)\n",
    "    print('Accuracy: \\t', round(accuracy,3))\n",
    "    print('Precision: \\t', precision)\n",
    "    print('Recall: \\t', recall)\n",
    "    print('F1 Score: \\t', F1_score)\n",
    "    \n",
    "print('\\nBest SVM model: rbf')"
   ]
  },
  {
   "cell_type": "code",
   "execution_count": null,
   "metadata": {},
   "outputs": [],
   "source": [
    "# Metrics without feature selection:\n",
    "                Accuracy    Precision        Recall         F1 Score\n",
    "KNN - 1         0.76        [0.826 0.581]   [0.843 0.551]   [0.834 0.566]\n",
    "KNN - 3         0.782       [0.813 0.661]   [0.904 0.474]   [0.856 0.552]\n",
    "KNN - 5         0.753       [0.797 0.586]   [0.878 0.436]   [0.836 0.5  ]\n",
    "NB              0.753       [0.797 0.586]   [0.878 0.436]   [0.836 0.5  ]\n",
    "SVM - linear    0.789       [0.791 0.778]   [0.959 0.359]   [0.867 0.491]\n",
    "SVM - poly      0.778       [0.779 0.774]   [0.964 0.308]   [0.862 0.440]\n",
    "SVM - rbf       0.815       [0.817 0.8  ]   [0.954 0.462]   [0.881 0.585]\n",
    "SVM - sigmoid   0.662       [0.739 0.368]   [0.817 0.269]   [0.776 0.311]"
   ]
  },
  {
   "source": [
    "**Task 4 Analysis:**\n",
    "*Best model:* SVM using 'rbf' as the kernel. It gave us the highest accuracy, precision, and f1-score. To select the parameters of the models, we chose 3 different numbers of nearest neighbors for the K-NN model and all the possible kernels (except for 'precomputed') for the SVM model. In terms of features, we used all 16 feautures (!!!)"
   ],
   "cell_type": "markdown",
   "metadata": {}
  },
  {
   "source": [
    "***Task 5: Clustering models***"
   ],
   "cell_type": "markdown",
   "metadata": {}
  },
  {
   "cell_type": "code",
   "execution_count": null,
   "metadata": {},
   "outputs": [],
   "source": [
    "# Task 5"
   ]
  },
  {
   "source": [
    "***Task 6: Map***"
   ],
   "cell_type": "markdown",
   "metadata": {}
  },
  {
   "cell_type": "code",
   "execution_count": null,
   "metadata": {},
   "outputs": [],
   "source": [
    "#Task 6"
   ]
  },
  {
   "source": [
    "***Task 7: Prediction***"
   ],
   "cell_type": "markdown",
   "metadata": {}
  },
  {
   "cell_type": "code",
   "execution_count": null,
   "metadata": {},
   "outputs": [],
   "source": [
    "# Task 7"
   ]
  }
 ],
 "metadata": {
  "kernelspec": {
   "display_name": "Python 3",
   "language": "python",
   "name": "python3"
  },
  "language_info": {
   "codemirror_mode": {
    "name": "ipython",
    "version": 3
   },
   "file_extension": ".py",
   "mimetype": "text/x-python",
   "name": "python",
   "nbconvert_exporter": "python",
   "pygments_lexer": "ipython3",
   "version": "3.7.7-final"
  }
 },
 "nbformat": 4,
 "nbformat_minor": 4
}